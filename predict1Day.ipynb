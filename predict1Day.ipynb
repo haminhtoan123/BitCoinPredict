{
 "cells": [
  {
   "cell_type": "markdown",
   "metadata": {},
   "source": [
    "# Dự đoán giá chứng khoán trong 1 ngày tiếp theo của Amazon\n",
    "---"
   ]
  },
  {
   "cell_type": "markdown",
   "metadata": {},
   "source": [
    "## 1. Import thư viện\n",
    "---"
   ]
  },
  {
   "cell_type": "code",
   "execution_count": 232,
   "metadata": {},
   "outputs": [],
   "source": [
    "import pandas as pd \n",
    "\n",
    "# phải cài cái này để load dữ liệu về\n",
    "\n",
    "\n",
    "import numpy as np\n",
    "from sklearn.preprocessing import StandardScaler\n",
    "from sklearn.preprocessing import MinMaxScaler,MaxAbsScaler\n",
    "from sklearn.pipeline import Pipeline\n",
    "from sklearn.base import BaseEstimator, TransformerMixin\n",
    "from sklearn.preprocessing import FunctionTransformer\n",
    "from sklearn.model_selection import train_test_split\n",
    "from sklearn.pipeline import Pipeline, make_pipeline\n",
    "from sklearn.compose import ColumnTransformer, make_column_transformer\n",
    "from sklearn.neural_network import MLPRegressor, MLPClassifier\n",
    "\n",
    "from sklearn.linear_model import LogisticRegression\n",
    "# vẽ biểu đồ cho ngầu \n",
    "import matplotlib.pyplot as plt\n",
    "#import seaborn as sns\n",
    "#sns.set_style('whitegrid')\n",
    "plt.style.use(\"fivethirtyeight\")\n",
    "%matplotlib inline\n",
    "\n",
    "# xử lý thời gian \n",
    "from datetime import datetime\n",
    "\n",
    "# keras for LSTM\n",
    "# phải cài cái này \n",
    "# from keras.models import Sequential\n",
    "# from keras.layers import Dense, Dropout, LSTM"
   ]
  },
  {
   "cell_type": "markdown",
   "metadata": {},
   "source": [
    "## 2. READ DATA\n",
    "---"
   ]
  },
  {
   "cell_type": "code",
   "execution_count": 555,
   "metadata": {
    "scrolled": true
   },
   "outputs": [
    {
     "output_type": "execute_result",
     "data": {
      "text/plain": [
       "                 timestamp      open      high       low     close  \\\n",
       "0      2019-05-23 00:00:00   7627.80   7650.00   7571.18   7638.42   \n",
       "1      2019-05-23 00:15:00   7635.96   7638.54   7538.81   7564.38   \n",
       "2      2019-05-23 00:30:00   7562.70   7638.38   7533.00   7634.62   \n",
       "3      2019-05-23 00:45:00   7638.14   7648.24   7610.00   7636.28   \n",
       "4      2019-05-23 01:00:00   7636.30   7681.70   7634.01   7655.97   \n",
       "...                    ...       ...       ...       ...       ...   \n",
       "64892  2021-03-30 11:30:00  58990.66  59044.86  58884.64  59024.10   \n",
       "64893  2021-03-30 11:45:00  59024.11  59246.93  58920.46  59240.34   \n",
       "64894  2021-03-30 12:00:00  59240.33  59368.00  59024.15  59196.50   \n",
       "64895  2021-03-30 12:15:00  59196.50  59200.00  59015.32  59059.30   \n",
       "64896  2021-03-30 12:30:00  59059.31  59199.00  59050.00  59055.01   \n",
       "\n",
       "            volume     close_time      quote_av  trades  tb_base_av  \\\n",
       "0       901.924709  1558570499999  6.869673e+06    7447  462.944261   \n",
       "1       959.017267  1558571399999  7.275112e+06    7295  498.544897   \n",
       "2       849.260997  1558572299999  6.449506e+06    6300  407.117683   \n",
       "3       611.505913  1558573199999  4.667999e+06    4547  217.545582   \n",
       "4       460.455221  1558574099999  3.527268e+06    5243  247.065081   \n",
       "...            ...            ...           ...     ...         ...   \n",
       "64892   486.970642  1617104699999  2.872185e+07   17747  212.085032   \n",
       "64893   993.251443  1617105599999  5.870948e+07   20432  647.303097   \n",
       "64894  1130.305391  1617106499999  6.696778e+07   26825  599.128578   \n",
       "64895   563.273870  1617107399999  3.328597e+07   17446  306.211084   \n",
       "64896   243.102030  1617108299999  1.437641e+07    9033  123.750650   \n",
       "\n",
       "        tb_quote_av  ignore  \n",
       "0      3.526314e+06       0  \n",
       "1      3.783333e+06       0  \n",
       "2      3.092928e+06       0  \n",
       "3      1.660150e+06       0  \n",
       "4      1.892431e+06       0  \n",
       "...             ...     ...  \n",
       "64892  1.250893e+07       0  \n",
       "64893  3.825925e+07       0  \n",
       "64894  3.550147e+07       0  \n",
       "64895  1.809445e+07       0  \n",
       "64896  7.317754e+06       0  \n",
       "\n",
       "[64897 rows x 12 columns]"
      ],
      "text/html": "<div>\n<style scoped>\n    .dataframe tbody tr th:only-of-type {\n        vertical-align: middle;\n    }\n\n    .dataframe tbody tr th {\n        vertical-align: top;\n    }\n\n    .dataframe thead th {\n        text-align: right;\n    }\n</style>\n<table border=\"1\" class=\"dataframe\">\n  <thead>\n    <tr style=\"text-align: right;\">\n      <th></th>\n      <th>timestamp</th>\n      <th>open</th>\n      <th>high</th>\n      <th>low</th>\n      <th>close</th>\n      <th>volume</th>\n      <th>close_time</th>\n      <th>quote_av</th>\n      <th>trades</th>\n      <th>tb_base_av</th>\n      <th>tb_quote_av</th>\n      <th>ignore</th>\n    </tr>\n  </thead>\n  <tbody>\n    <tr>\n      <th>0</th>\n      <td>2019-05-23 00:00:00</td>\n      <td>7627.80</td>\n      <td>7650.00</td>\n      <td>7571.18</td>\n      <td>7638.42</td>\n      <td>901.924709</td>\n      <td>1558570499999</td>\n      <td>6.869673e+06</td>\n      <td>7447</td>\n      <td>462.944261</td>\n      <td>3.526314e+06</td>\n      <td>0</td>\n    </tr>\n    <tr>\n      <th>1</th>\n      <td>2019-05-23 00:15:00</td>\n      <td>7635.96</td>\n      <td>7638.54</td>\n      <td>7538.81</td>\n      <td>7564.38</td>\n      <td>959.017267</td>\n      <td>1558571399999</td>\n      <td>7.275112e+06</td>\n      <td>7295</td>\n      <td>498.544897</td>\n      <td>3.783333e+06</td>\n      <td>0</td>\n    </tr>\n    <tr>\n      <th>2</th>\n      <td>2019-05-23 00:30:00</td>\n      <td>7562.70</td>\n      <td>7638.38</td>\n      <td>7533.00</td>\n      <td>7634.62</td>\n      <td>849.260997</td>\n      <td>1558572299999</td>\n      <td>6.449506e+06</td>\n      <td>6300</td>\n      <td>407.117683</td>\n      <td>3.092928e+06</td>\n      <td>0</td>\n    </tr>\n    <tr>\n      <th>3</th>\n      <td>2019-05-23 00:45:00</td>\n      <td>7638.14</td>\n      <td>7648.24</td>\n      <td>7610.00</td>\n      <td>7636.28</td>\n      <td>611.505913</td>\n      <td>1558573199999</td>\n      <td>4.667999e+06</td>\n      <td>4547</td>\n      <td>217.545582</td>\n      <td>1.660150e+06</td>\n      <td>0</td>\n    </tr>\n    <tr>\n      <th>4</th>\n      <td>2019-05-23 01:00:00</td>\n      <td>7636.30</td>\n      <td>7681.70</td>\n      <td>7634.01</td>\n      <td>7655.97</td>\n      <td>460.455221</td>\n      <td>1558574099999</td>\n      <td>3.527268e+06</td>\n      <td>5243</td>\n      <td>247.065081</td>\n      <td>1.892431e+06</td>\n      <td>0</td>\n    </tr>\n    <tr>\n      <th>...</th>\n      <td>...</td>\n      <td>...</td>\n      <td>...</td>\n      <td>...</td>\n      <td>...</td>\n      <td>...</td>\n      <td>...</td>\n      <td>...</td>\n      <td>...</td>\n      <td>...</td>\n      <td>...</td>\n      <td>...</td>\n    </tr>\n    <tr>\n      <th>64892</th>\n      <td>2021-03-30 11:30:00</td>\n      <td>58990.66</td>\n      <td>59044.86</td>\n      <td>58884.64</td>\n      <td>59024.10</td>\n      <td>486.970642</td>\n      <td>1617104699999</td>\n      <td>2.872185e+07</td>\n      <td>17747</td>\n      <td>212.085032</td>\n      <td>1.250893e+07</td>\n      <td>0</td>\n    </tr>\n    <tr>\n      <th>64893</th>\n      <td>2021-03-30 11:45:00</td>\n      <td>59024.11</td>\n      <td>59246.93</td>\n      <td>58920.46</td>\n      <td>59240.34</td>\n      <td>993.251443</td>\n      <td>1617105599999</td>\n      <td>5.870948e+07</td>\n      <td>20432</td>\n      <td>647.303097</td>\n      <td>3.825925e+07</td>\n      <td>0</td>\n    </tr>\n    <tr>\n      <th>64894</th>\n      <td>2021-03-30 12:00:00</td>\n      <td>59240.33</td>\n      <td>59368.00</td>\n      <td>59024.15</td>\n      <td>59196.50</td>\n      <td>1130.305391</td>\n      <td>1617106499999</td>\n      <td>6.696778e+07</td>\n      <td>26825</td>\n      <td>599.128578</td>\n      <td>3.550147e+07</td>\n      <td>0</td>\n    </tr>\n    <tr>\n      <th>64895</th>\n      <td>2021-03-30 12:15:00</td>\n      <td>59196.50</td>\n      <td>59200.00</td>\n      <td>59015.32</td>\n      <td>59059.30</td>\n      <td>563.273870</td>\n      <td>1617107399999</td>\n      <td>3.328597e+07</td>\n      <td>17446</td>\n      <td>306.211084</td>\n      <td>1.809445e+07</td>\n      <td>0</td>\n    </tr>\n    <tr>\n      <th>64896</th>\n      <td>2021-03-30 12:30:00</td>\n      <td>59059.31</td>\n      <td>59199.00</td>\n      <td>59050.00</td>\n      <td>59055.01</td>\n      <td>243.102030</td>\n      <td>1617108299999</td>\n      <td>1.437641e+07</td>\n      <td>9033</td>\n      <td>123.750650</td>\n      <td>7.317754e+06</td>\n      <td>0</td>\n    </tr>\n  </tbody>\n</table>\n<p>64897 rows × 12 columns</p>\n</div>"
     },
     "metadata": {},
     "execution_count": 555
    }
   ],
   "source": [
    "df = pd.read_csv('BTCUSDT_15MinuteBars.csv')\n",
    "\n",
    "df\n",
    "# df = pd.read_csv('AMZN.csv')\n",
    "# df = df.set_index('Date')\n",
    "# df"
   ]
  },
  {
   "source": [
    "cộng , trừ => nến"
   ],
   "cell_type": "markdown",
   "metadata": {}
  },
  {
   "cell_type": "code",
   "execution_count": 556,
   "metadata": {},
   "outputs": [
    {
     "output_type": "stream",
     "name": "stderr",
     "text": [
      "/home/noat/anaconda3/lib/python3.7/site-packages/pandas/core/frame.py:4315: SettingWithCopyWarning: \nA value is trying to be set on a copy of a slice from a DataFrame\n\nSee the caveats in the documentation: https://pandas.pydata.org/pandas-docs/stable/user_guide/indexing.html#returning-a-view-versus-a-copy\n  errors=errors,\n/home/noat/anaconda3/lib/python3.7/site-packages/pandas/core/frame.py:4449: SettingWithCopyWarning: \nA value is trying to be set on a copy of a slice from a DataFrame\n\nSee the caveats in the documentation: https://pandas.pydata.org/pandas-docs/stable/user_guide/indexing.html#returning-a-view-versus-a-copy\n  errors=errors,\n"
     ]
    }
   ],
   "source": [
    "def Create_Train(df,n,percent):\n",
    "\n",
    "        df.drop('timestamp', inplace = True, axis = 1 )\n",
    "        df.drop('close_time', inplace = True, axis = 1 )\n",
    "        df.drop('quote_av', inplace = True, axis = 1 )\n",
    "        df.drop('trades', inplace = True, axis = 1 )\n",
    "        df.drop('tb_base_av', inplace = True, axis = 1 )\n",
    "        df.drop('tb_quote_av', inplace = True, axis = 1 )\n",
    "        df.drop('ignore', inplace = True, axis = 1 )\n",
    "        df.drop('volume', inplace = True, axis = 1 )\n",
    "        #df.drop('open',inplace = True, axis = 1)\n",
    "\n",
    "        blocks = list()\n",
    "        return_Df= df[:-n]\n",
    "        return_Df.reset_index(inplace= True)\n",
    "        return_Df.drop('index',inplace = True, axis = 1)\n",
    "        for i in range(1,n):\n",
    "            blocks.append(df[i:-(n-i)])\n",
    "            blocks[i-1].reset_index(inplace= True)\n",
    "            blocks[i-1].drop('index',inplace = True, axis = 1)\n",
    "            blocks[i-1].rename(columns={\"open\":\"open \" + str(i),\"high\": \"high \"+ str(i), \"low\": \"low \"+ str(i), \"close\": \"close \"+ str(i)},inplace = True)\n",
    "            return_Df = return_Df.join(blocks[i-1])\n",
    "        return_Df = return_Df.drop(return_Df.tail(1).index)#?\n",
    "\n",
    "        view =df['close'][n+1:]\n",
    "\n",
    "        view.reset_index(inplace=True, drop=True)\n",
    "        #index = ()\n",
    "        #print(view > return_Df['close'])\n",
    "        #print(view.index.difference(index))\n",
    "        index1 = view > (return_Df['close '+str(n-1)]*percent)\n",
    "\n",
    "        index2 = view <= (return_Df['close '+str(n-1)]*percent)\n",
    "\n",
    "        view[index1]='Up' \n",
    "        view[index2]='Down' \n",
    "        view.rename(\"Tag\",inplace = True)\n",
    "\n",
    "        return_Df = return_Df.join(view)\n",
    "\n",
    "\n",
    "        return return_Df\n",
    "b=  Create_Train(df,15,1.0005)  "
   ]
  },
  {
   "cell_type": "code",
   "execution_count": 557,
   "metadata": {},
   "outputs": [
    {
     "output_type": "execute_result",
     "data": {
      "text/plain": [
       "open        0\n",
       "high        0\n",
       "low         0\n",
       "close       0\n",
       "open 1      0\n",
       "           ..\n",
       "open 14     0\n",
       "high 14     0\n",
       "low 14      0\n",
       "close 14    0\n",
       "Tag         0\n",
       "Length: 61, dtype: int64"
      ]
     },
     "metadata": {},
     "execution_count": 557
    }
   ],
   "source": [
    "b.isna().sum()"
   ]
  },
  {
   "cell_type": "code",
   "execution_count": 561,
   "metadata": {},
   "outputs": [],
   "source": [
    "def Create_Train_candel(df,n):# high - open, open - close, close - low \n",
    "    return_df = pd.concat([(df[\"high\"]- df[\"open\"]).rename(\"high\"),(df[\"open\"]- df[\"close\"]).rename(\"now\"),(df[\"close\"] - df[\"low\"]).rename(\"low\")],axis=1)\n",
    "    for i in range(1,n):\n",
    "        return_df = return_df.join((df[\"high \"+ str(i)]- df[\"open \"+str(i)]).rename(\"high \"+str(i)))\n",
    "        return_df = return_df.join((df[\"open \"+ str(i)] - df[\"close \" +str(i)]).rename(\"now \"+str(i)))\n",
    "        return_df = return_df.join((df[\"close \"+ str(i)] - df[\"low \"+str(i)]).rename(\"low \"+str(i)))\n",
    "    return return_df.join(b[\"Tag\"])\n",
    "test =Create_Train_candel(b,15)"
   ]
  },
  {
   "cell_type": "code",
   "execution_count": 96,
   "metadata": {},
   "outputs": [
    {
     "output_type": "stream",
     "name": "stderr",
     "text": [
      "/home/noat/anaconda3/lib/python3.7/site-packages/pandas/core/frame.py:4315: SettingWithCopyWarning: \nA value is trying to be set on a copy of a slice from a DataFrame\n\nSee the caveats in the documentation: https://pandas.pydata.org/pandas-docs/stable/user_guide/indexing.html#returning-a-view-versus-a-copy\n  errors=errors,\n/home/noat/anaconda3/lib/python3.7/site-packages/pandas/core/frame.py:4449: SettingWithCopyWarning: \nA value is trying to be set on a copy of a slice from a DataFrame\n\nSee the caveats in the documentation: https://pandas.pydata.org/pandas-docs/stable/user_guide/indexing.html#returning-a-view-versus-a-copy\n  errors=errors,\n"
     ]
    }
   ],
   "source": [
    "def Percent_df(df,n):\n",
    "        # df.drop('timestamp', inplace = True, axis = 1 )\n",
    "        # df.drop('close_time', inplace = True, axis = 1 )\n",
    "        # df.drop('quote_av', inplace = True, axis = 1 )\n",
    "        # df.drop('trades', inplace = True, axis = 1 )\n",
    "        # df.drop('tb_base_av', inplace = True, axis = 1 )\n",
    "        # df.drop('tb_quote_av', inplace = True, axis = 1 )\n",
    "        # df.drop('ignore', inplace = True, axis = 1 )\n",
    "        # df.drop('volume', inplace = True, axis = 1 )\n",
    "        #df.drop('open',inplace = True, axis = 1)\n",
    "\n",
    "        blocks = list()\n",
    "        return_Df= df[:-n]\n",
    "        return_Df.reset_index(inplace= True)\n",
    "        return_Df.drop('index',inplace = True, axis = 1)\n",
    "        for i in range(1,n):\n",
    "            blocks.append(df[i:-(n-i)])\n",
    "            blocks[i-1].reset_index(inplace= True)\n",
    "            blocks[i-1].drop('index',inplace = True, axis = 1)\n",
    "            blocks[i-1].rename(columns={\"open\":\"open \" + str(i),\"high\": \"high \"+ str(i), \"low\": \"low \"+ str(i), \"close\": \"close \"+ str(i)},inplace = True)\n",
    "            return_Df = return_Df.join(blocks[i-1])\n",
    "        return_Df.drop(return_Df.tail(1).index,inplace=True)\n",
    "\n",
    "        view =df['close'][n+1:]\n",
    "\n",
    "        view.reset_index(inplace=True, drop=True)\n",
    "        #index = ()\n",
    "        #print(view > return_Df['close'])\n",
    "        #print(view.index.difference(index))\n",
    "        view = (view /(return_Df['close 7'])-1)*100\n",
    "\n",
    "        # view[index1]='Up' \n",
    "        # view[index2]='Down' \n",
    "        view.rename(\"Tag\",inplace = True)\n",
    "\n",
    "        return_Df = return_Df.join(view)\n",
    "\n",
    "\n",
    "        return return_Df\n",
    "c=  Percent_df(df,8)  "
   ]
  },
  {
   "cell_type": "code",
   "execution_count": 562,
   "metadata": {},
   "outputs": [
    {
     "output_type": "execute_result",
     "data": {
      "text/plain": [
       "high       0\n",
       "now        0\n",
       "low        0\n",
       "high 1     0\n",
       "now 1      0\n",
       "low 1      0\n",
       "high 2     0\n",
       "now 2      0\n",
       "low 2      0\n",
       "high 3     0\n",
       "now 3      0\n",
       "low 3      0\n",
       "high 4     0\n",
       "now 4      0\n",
       "low 4      0\n",
       "high 5     0\n",
       "now 5      0\n",
       "low 5      0\n",
       "high 6     0\n",
       "now 6      0\n",
       "low 6      0\n",
       "high 7     0\n",
       "now 7      0\n",
       "low 7      0\n",
       "high 8     0\n",
       "now 8      0\n",
       "low 8      0\n",
       "high 9     0\n",
       "now 9      0\n",
       "low 9      0\n",
       "high 10    0\n",
       "now 10     0\n",
       "low 10     0\n",
       "high 11    0\n",
       "now 11     0\n",
       "low 11     0\n",
       "high 12    0\n",
       "now 12     0\n",
       "low 12     0\n",
       "high 13    0\n",
       "now 13     0\n",
       "low 13     0\n",
       "high 14    0\n",
       "now 14     0\n",
       "low 14     0\n",
       "Tag        0\n",
       "dtype: int64"
      ]
     },
     "metadata": {},
     "execution_count": 562
    }
   ],
   "source": [
    "test.isna().sum()"
   ]
  },
  {
   "cell_type": "code",
   "execution_count": 563,
   "metadata": {},
   "outputs": [
    {
     "output_type": "execute_result",
     "data": {
      "text/plain": [
       "        high     now     low  high 1   now 1   low 1  high 2   now 2   low 2  \\\n",
       "0      22.20  -10.62   67.24    2.58   71.58   25.57   75.68  -71.92  101.62   \n",
       "1       2.58   71.58   25.57   75.68  -71.92  101.62   10.10    1.86   26.28   \n",
       "2      75.68  -71.92  101.62   10.10    1.86   26.28   45.40  -19.67   21.96   \n",
       "3      10.10    1.86   26.28   45.40  -19.67   21.96   10.52    5.33   16.97   \n",
       "4      45.40  -19.67   21.96   10.52    5.33   16.97   15.18   35.68    1.11   \n",
       "...      ...     ...     ...     ...     ...     ...     ...     ...     ...   \n",
       "64876  89.56  -27.43  103.16   15.12   38.79  122.16   83.84   41.08   70.23   \n",
       "64877  15.12   38.79  122.16   83.84   41.08   70.23    6.30  166.97  181.40   \n",
       "64878  83.84   41.08   70.23    6.30  166.97  181.40   36.36  -20.49  134.89   \n",
       "64879   6.30  166.97  181.40   36.36  -20.49  134.89  100.51  -10.12  102.25   \n",
       "64880  36.36  -20.49  134.89  100.51  -10.12  102.25  176.29  -59.25  156.43   \n",
       "\n",
       "       high 3  ...  high 12  now 12  low 12  high 13  now 13  low 13  high 14  \\\n",
       "0       10.10  ...    14.70   13.70   17.06    24.06    5.74   18.93    12.58   \n",
       "1       45.40  ...    24.06    5.74   18.93    12.58    5.85    2.34    34.11   \n",
       "2       10.52  ...    12.58    5.85    2.34    34.11  -33.40   35.14    22.07   \n",
       "3       15.18  ...    34.11  -33.40   35.14    22.07    3.53    7.52     3.66   \n",
       "4       15.48  ...    22.07    3.53    7.52     3.66   16.80    4.80    20.40   \n",
       "...       ...  ...      ...     ...     ...      ...     ...     ...      ...   \n",
       "64876    6.30  ...    31.49  398.69   83.35   264.92 -134.52  139.93   271.05   \n",
       "64877   36.36  ...   264.92 -134.52  139.93   271.05 -185.07  190.34     6.00   \n",
       "64878  100.51  ...   271.05 -185.07  190.34     6.00   39.82  104.84    54.20   \n",
       "64879  176.29  ...     6.00   39.82  104.84    54.20  -33.44  139.46   222.82   \n",
       "64880  117.41  ...    54.20  -33.44  139.46   222.82 -216.23  319.88   127.67   \n",
       "\n",
       "       now 14  low 14   Tag  \n",
       "0        5.85    2.34    Up  \n",
       "1      -33.40   35.14  Down  \n",
       "2        3.53    7.52  Down  \n",
       "3       16.80    4.80    Up  \n",
       "4      -12.11   19.93  Down  \n",
       "...       ...     ...   ...  \n",
       "64876 -185.07  190.34  Down  \n",
       "64877   39.82  104.84    Up  \n",
       "64878  -33.44  139.46    Up  \n",
       "64879 -216.23  319.88  Down  \n",
       "64880   43.83  172.35  Down  \n",
       "\n",
       "[64881 rows x 46 columns]"
      ],
      "text/html": "<div>\n<style scoped>\n    .dataframe tbody tr th:only-of-type {\n        vertical-align: middle;\n    }\n\n    .dataframe tbody tr th {\n        vertical-align: top;\n    }\n\n    .dataframe thead th {\n        text-align: right;\n    }\n</style>\n<table border=\"1\" class=\"dataframe\">\n  <thead>\n    <tr style=\"text-align: right;\">\n      <th></th>\n      <th>high</th>\n      <th>now</th>\n      <th>low</th>\n      <th>high 1</th>\n      <th>now 1</th>\n      <th>low 1</th>\n      <th>high 2</th>\n      <th>now 2</th>\n      <th>low 2</th>\n      <th>high 3</th>\n      <th>...</th>\n      <th>high 12</th>\n      <th>now 12</th>\n      <th>low 12</th>\n      <th>high 13</th>\n      <th>now 13</th>\n      <th>low 13</th>\n      <th>high 14</th>\n      <th>now 14</th>\n      <th>low 14</th>\n      <th>Tag</th>\n    </tr>\n  </thead>\n  <tbody>\n    <tr>\n      <th>0</th>\n      <td>22.20</td>\n      <td>-10.62</td>\n      <td>67.24</td>\n      <td>2.58</td>\n      <td>71.58</td>\n      <td>25.57</td>\n      <td>75.68</td>\n      <td>-71.92</td>\n      <td>101.62</td>\n      <td>10.10</td>\n      <td>...</td>\n      <td>14.70</td>\n      <td>13.70</td>\n      <td>17.06</td>\n      <td>24.06</td>\n      <td>5.74</td>\n      <td>18.93</td>\n      <td>12.58</td>\n      <td>5.85</td>\n      <td>2.34</td>\n      <td>Up</td>\n    </tr>\n    <tr>\n      <th>1</th>\n      <td>2.58</td>\n      <td>71.58</td>\n      <td>25.57</td>\n      <td>75.68</td>\n      <td>-71.92</td>\n      <td>101.62</td>\n      <td>10.10</td>\n      <td>1.86</td>\n      <td>26.28</td>\n      <td>45.40</td>\n      <td>...</td>\n      <td>24.06</td>\n      <td>5.74</td>\n      <td>18.93</td>\n      <td>12.58</td>\n      <td>5.85</td>\n      <td>2.34</td>\n      <td>34.11</td>\n      <td>-33.40</td>\n      <td>35.14</td>\n      <td>Down</td>\n    </tr>\n    <tr>\n      <th>2</th>\n      <td>75.68</td>\n      <td>-71.92</td>\n      <td>101.62</td>\n      <td>10.10</td>\n      <td>1.86</td>\n      <td>26.28</td>\n      <td>45.40</td>\n      <td>-19.67</td>\n      <td>21.96</td>\n      <td>10.52</td>\n      <td>...</td>\n      <td>12.58</td>\n      <td>5.85</td>\n      <td>2.34</td>\n      <td>34.11</td>\n      <td>-33.40</td>\n      <td>35.14</td>\n      <td>22.07</td>\n      <td>3.53</td>\n      <td>7.52</td>\n      <td>Down</td>\n    </tr>\n    <tr>\n      <th>3</th>\n      <td>10.10</td>\n      <td>1.86</td>\n      <td>26.28</td>\n      <td>45.40</td>\n      <td>-19.67</td>\n      <td>21.96</td>\n      <td>10.52</td>\n      <td>5.33</td>\n      <td>16.97</td>\n      <td>15.18</td>\n      <td>...</td>\n      <td>34.11</td>\n      <td>-33.40</td>\n      <td>35.14</td>\n      <td>22.07</td>\n      <td>3.53</td>\n      <td>7.52</td>\n      <td>3.66</td>\n      <td>16.80</td>\n      <td>4.80</td>\n      <td>Up</td>\n    </tr>\n    <tr>\n      <th>4</th>\n      <td>45.40</td>\n      <td>-19.67</td>\n      <td>21.96</td>\n      <td>10.52</td>\n      <td>5.33</td>\n      <td>16.97</td>\n      <td>15.18</td>\n      <td>35.68</td>\n      <td>1.11</td>\n      <td>15.48</td>\n      <td>...</td>\n      <td>22.07</td>\n      <td>3.53</td>\n      <td>7.52</td>\n      <td>3.66</td>\n      <td>16.80</td>\n      <td>4.80</td>\n      <td>20.40</td>\n      <td>-12.11</td>\n      <td>19.93</td>\n      <td>Down</td>\n    </tr>\n    <tr>\n      <th>...</th>\n      <td>...</td>\n      <td>...</td>\n      <td>...</td>\n      <td>...</td>\n      <td>...</td>\n      <td>...</td>\n      <td>...</td>\n      <td>...</td>\n      <td>...</td>\n      <td>...</td>\n      <td>...</td>\n      <td>...</td>\n      <td>...</td>\n      <td>...</td>\n      <td>...</td>\n      <td>...</td>\n      <td>...</td>\n      <td>...</td>\n      <td>...</td>\n      <td>...</td>\n      <td>...</td>\n    </tr>\n    <tr>\n      <th>64876</th>\n      <td>89.56</td>\n      <td>-27.43</td>\n      <td>103.16</td>\n      <td>15.12</td>\n      <td>38.79</td>\n      <td>122.16</td>\n      <td>83.84</td>\n      <td>41.08</td>\n      <td>70.23</td>\n      <td>6.30</td>\n      <td>...</td>\n      <td>31.49</td>\n      <td>398.69</td>\n      <td>83.35</td>\n      <td>264.92</td>\n      <td>-134.52</td>\n      <td>139.93</td>\n      <td>271.05</td>\n      <td>-185.07</td>\n      <td>190.34</td>\n      <td>Down</td>\n    </tr>\n    <tr>\n      <th>64877</th>\n      <td>15.12</td>\n      <td>38.79</td>\n      <td>122.16</td>\n      <td>83.84</td>\n      <td>41.08</td>\n      <td>70.23</td>\n      <td>6.30</td>\n      <td>166.97</td>\n      <td>181.40</td>\n      <td>36.36</td>\n      <td>...</td>\n      <td>264.92</td>\n      <td>-134.52</td>\n      <td>139.93</td>\n      <td>271.05</td>\n      <td>-185.07</td>\n      <td>190.34</td>\n      <td>6.00</td>\n      <td>39.82</td>\n      <td>104.84</td>\n      <td>Up</td>\n    </tr>\n    <tr>\n      <th>64878</th>\n      <td>83.84</td>\n      <td>41.08</td>\n      <td>70.23</td>\n      <td>6.30</td>\n      <td>166.97</td>\n      <td>181.40</td>\n      <td>36.36</td>\n      <td>-20.49</td>\n      <td>134.89</td>\n      <td>100.51</td>\n      <td>...</td>\n      <td>271.05</td>\n      <td>-185.07</td>\n      <td>190.34</td>\n      <td>6.00</td>\n      <td>39.82</td>\n      <td>104.84</td>\n      <td>54.20</td>\n      <td>-33.44</td>\n      <td>139.46</td>\n      <td>Up</td>\n    </tr>\n    <tr>\n      <th>64879</th>\n      <td>6.30</td>\n      <td>166.97</td>\n      <td>181.40</td>\n      <td>36.36</td>\n      <td>-20.49</td>\n      <td>134.89</td>\n      <td>100.51</td>\n      <td>-10.12</td>\n      <td>102.25</td>\n      <td>176.29</td>\n      <td>...</td>\n      <td>6.00</td>\n      <td>39.82</td>\n      <td>104.84</td>\n      <td>54.20</td>\n      <td>-33.44</td>\n      <td>139.46</td>\n      <td>222.82</td>\n      <td>-216.23</td>\n      <td>319.88</td>\n      <td>Down</td>\n    </tr>\n    <tr>\n      <th>64880</th>\n      <td>36.36</td>\n      <td>-20.49</td>\n      <td>134.89</td>\n      <td>100.51</td>\n      <td>-10.12</td>\n      <td>102.25</td>\n      <td>176.29</td>\n      <td>-59.25</td>\n      <td>156.43</td>\n      <td>117.41</td>\n      <td>...</td>\n      <td>54.20</td>\n      <td>-33.44</td>\n      <td>139.46</td>\n      <td>222.82</td>\n      <td>-216.23</td>\n      <td>319.88</td>\n      <td>127.67</td>\n      <td>43.83</td>\n      <td>172.35</td>\n      <td>Down</td>\n    </tr>\n  </tbody>\n</table>\n<p>64881 rows × 46 columns</p>\n</div>"
     },
     "metadata": {},
     "execution_count": 563
    }
   ],
   "source": [
    "test"
   ]
  },
  {
   "cell_type": "code",
   "execution_count": 564,
   "metadata": {},
   "outputs": [],
   "source": [
    "b= test"
   ]
  },
  {
   "cell_type": "code",
   "execution_count": null,
   "metadata": {},
   "outputs": [],
   "source": []
  },
  {
   "cell_type": "code",
   "execution_count": 565,
   "metadata": {
    "scrolled": false
   },
   "outputs": [
    {
     "output_type": "execute_result",
     "data": {
      "text/plain": [
       "        high     now     low  high 1   now 1   low 1  high 2   now 2   low 2  \\\n",
       "0      22.20  -10.62   67.24    2.58   71.58   25.57   75.68  -71.92  101.62   \n",
       "1       2.58   71.58   25.57   75.68  -71.92  101.62   10.10    1.86   26.28   \n",
       "2      75.68  -71.92  101.62   10.10    1.86   26.28   45.40  -19.67   21.96   \n",
       "3      10.10    1.86   26.28   45.40  -19.67   21.96   10.52    5.33   16.97   \n",
       "4      45.40  -19.67   21.96   10.52    5.33   16.97   15.18   35.68    1.11   \n",
       "...      ...     ...     ...     ...     ...     ...     ...     ...     ...   \n",
       "64876  89.56  -27.43  103.16   15.12   38.79  122.16   83.84   41.08   70.23   \n",
       "64877  15.12   38.79  122.16   83.84   41.08   70.23    6.30  166.97  181.40   \n",
       "64878  83.84   41.08   70.23    6.30  166.97  181.40   36.36  -20.49  134.89   \n",
       "64879   6.30  166.97  181.40   36.36  -20.49  134.89  100.51  -10.12  102.25   \n",
       "64880  36.36  -20.49  134.89  100.51  -10.12  102.25  176.29  -59.25  156.43   \n",
       "\n",
       "       high 3  ...  high 12  now 12  low 12  high 13  now 13  low 13  high 14  \\\n",
       "0       10.10  ...    14.70   13.70   17.06    24.06    5.74   18.93    12.58   \n",
       "1       45.40  ...    24.06    5.74   18.93    12.58    5.85    2.34    34.11   \n",
       "2       10.52  ...    12.58    5.85    2.34    34.11  -33.40   35.14    22.07   \n",
       "3       15.18  ...    34.11  -33.40   35.14    22.07    3.53    7.52     3.66   \n",
       "4       15.48  ...    22.07    3.53    7.52     3.66   16.80    4.80    20.40   \n",
       "...       ...  ...      ...     ...     ...      ...     ...     ...      ...   \n",
       "64876    6.30  ...    31.49  398.69   83.35   264.92 -134.52  139.93   271.05   \n",
       "64877   36.36  ...   264.92 -134.52  139.93   271.05 -185.07  190.34     6.00   \n",
       "64878  100.51  ...   271.05 -185.07  190.34     6.00   39.82  104.84    54.20   \n",
       "64879  176.29  ...     6.00   39.82  104.84    54.20  -33.44  139.46   222.82   \n",
       "64880  117.41  ...    54.20  -33.44  139.46   222.82 -216.23  319.88   127.67   \n",
       "\n",
       "       now 14  low 14   Tag  \n",
       "0        5.85    2.34    Up  \n",
       "1      -33.40   35.14  Down  \n",
       "2        3.53    7.52  Down  \n",
       "3       16.80    4.80    Up  \n",
       "4      -12.11   19.93  Down  \n",
       "...       ...     ...   ...  \n",
       "64876 -185.07  190.34  Down  \n",
       "64877   39.82  104.84    Up  \n",
       "64878  -33.44  139.46    Up  \n",
       "64879 -216.23  319.88  Down  \n",
       "64880   43.83  172.35  Down  \n",
       "\n",
       "[64881 rows x 46 columns]"
      ],
      "text/html": "<div>\n<style scoped>\n    .dataframe tbody tr th:only-of-type {\n        vertical-align: middle;\n    }\n\n    .dataframe tbody tr th {\n        vertical-align: top;\n    }\n\n    .dataframe thead th {\n        text-align: right;\n    }\n</style>\n<table border=\"1\" class=\"dataframe\">\n  <thead>\n    <tr style=\"text-align: right;\">\n      <th></th>\n      <th>high</th>\n      <th>now</th>\n      <th>low</th>\n      <th>high 1</th>\n      <th>now 1</th>\n      <th>low 1</th>\n      <th>high 2</th>\n      <th>now 2</th>\n      <th>low 2</th>\n      <th>high 3</th>\n      <th>...</th>\n      <th>high 12</th>\n      <th>now 12</th>\n      <th>low 12</th>\n      <th>high 13</th>\n      <th>now 13</th>\n      <th>low 13</th>\n      <th>high 14</th>\n      <th>now 14</th>\n      <th>low 14</th>\n      <th>Tag</th>\n    </tr>\n  </thead>\n  <tbody>\n    <tr>\n      <th>0</th>\n      <td>22.20</td>\n      <td>-10.62</td>\n      <td>67.24</td>\n      <td>2.58</td>\n      <td>71.58</td>\n      <td>25.57</td>\n      <td>75.68</td>\n      <td>-71.92</td>\n      <td>101.62</td>\n      <td>10.10</td>\n      <td>...</td>\n      <td>14.70</td>\n      <td>13.70</td>\n      <td>17.06</td>\n      <td>24.06</td>\n      <td>5.74</td>\n      <td>18.93</td>\n      <td>12.58</td>\n      <td>5.85</td>\n      <td>2.34</td>\n      <td>Up</td>\n    </tr>\n    <tr>\n      <th>1</th>\n      <td>2.58</td>\n      <td>71.58</td>\n      <td>25.57</td>\n      <td>75.68</td>\n      <td>-71.92</td>\n      <td>101.62</td>\n      <td>10.10</td>\n      <td>1.86</td>\n      <td>26.28</td>\n      <td>45.40</td>\n      <td>...</td>\n      <td>24.06</td>\n      <td>5.74</td>\n      <td>18.93</td>\n      <td>12.58</td>\n      <td>5.85</td>\n      <td>2.34</td>\n      <td>34.11</td>\n      <td>-33.40</td>\n      <td>35.14</td>\n      <td>Down</td>\n    </tr>\n    <tr>\n      <th>2</th>\n      <td>75.68</td>\n      <td>-71.92</td>\n      <td>101.62</td>\n      <td>10.10</td>\n      <td>1.86</td>\n      <td>26.28</td>\n      <td>45.40</td>\n      <td>-19.67</td>\n      <td>21.96</td>\n      <td>10.52</td>\n      <td>...</td>\n      <td>12.58</td>\n      <td>5.85</td>\n      <td>2.34</td>\n      <td>34.11</td>\n      <td>-33.40</td>\n      <td>35.14</td>\n      <td>22.07</td>\n      <td>3.53</td>\n      <td>7.52</td>\n      <td>Down</td>\n    </tr>\n    <tr>\n      <th>3</th>\n      <td>10.10</td>\n      <td>1.86</td>\n      <td>26.28</td>\n      <td>45.40</td>\n      <td>-19.67</td>\n      <td>21.96</td>\n      <td>10.52</td>\n      <td>5.33</td>\n      <td>16.97</td>\n      <td>15.18</td>\n      <td>...</td>\n      <td>34.11</td>\n      <td>-33.40</td>\n      <td>35.14</td>\n      <td>22.07</td>\n      <td>3.53</td>\n      <td>7.52</td>\n      <td>3.66</td>\n      <td>16.80</td>\n      <td>4.80</td>\n      <td>Up</td>\n    </tr>\n    <tr>\n      <th>4</th>\n      <td>45.40</td>\n      <td>-19.67</td>\n      <td>21.96</td>\n      <td>10.52</td>\n      <td>5.33</td>\n      <td>16.97</td>\n      <td>15.18</td>\n      <td>35.68</td>\n      <td>1.11</td>\n      <td>15.48</td>\n      <td>...</td>\n      <td>22.07</td>\n      <td>3.53</td>\n      <td>7.52</td>\n      <td>3.66</td>\n      <td>16.80</td>\n      <td>4.80</td>\n      <td>20.40</td>\n      <td>-12.11</td>\n      <td>19.93</td>\n      <td>Down</td>\n    </tr>\n    <tr>\n      <th>...</th>\n      <td>...</td>\n      <td>...</td>\n      <td>...</td>\n      <td>...</td>\n      <td>...</td>\n      <td>...</td>\n      <td>...</td>\n      <td>...</td>\n      <td>...</td>\n      <td>...</td>\n      <td>...</td>\n      <td>...</td>\n      <td>...</td>\n      <td>...</td>\n      <td>...</td>\n      <td>...</td>\n      <td>...</td>\n      <td>...</td>\n      <td>...</td>\n      <td>...</td>\n      <td>...</td>\n    </tr>\n    <tr>\n      <th>64876</th>\n      <td>89.56</td>\n      <td>-27.43</td>\n      <td>103.16</td>\n      <td>15.12</td>\n      <td>38.79</td>\n      <td>122.16</td>\n      <td>83.84</td>\n      <td>41.08</td>\n      <td>70.23</td>\n      <td>6.30</td>\n      <td>...</td>\n      <td>31.49</td>\n      <td>398.69</td>\n      <td>83.35</td>\n      <td>264.92</td>\n      <td>-134.52</td>\n      <td>139.93</td>\n      <td>271.05</td>\n      <td>-185.07</td>\n      <td>190.34</td>\n      <td>Down</td>\n    </tr>\n    <tr>\n      <th>64877</th>\n      <td>15.12</td>\n      <td>38.79</td>\n      <td>122.16</td>\n      <td>83.84</td>\n      <td>41.08</td>\n      <td>70.23</td>\n      <td>6.30</td>\n      <td>166.97</td>\n      <td>181.40</td>\n      <td>36.36</td>\n      <td>...</td>\n      <td>264.92</td>\n      <td>-134.52</td>\n      <td>139.93</td>\n      <td>271.05</td>\n      <td>-185.07</td>\n      <td>190.34</td>\n      <td>6.00</td>\n      <td>39.82</td>\n      <td>104.84</td>\n      <td>Up</td>\n    </tr>\n    <tr>\n      <th>64878</th>\n      <td>83.84</td>\n      <td>41.08</td>\n      <td>70.23</td>\n      <td>6.30</td>\n      <td>166.97</td>\n      <td>181.40</td>\n      <td>36.36</td>\n      <td>-20.49</td>\n      <td>134.89</td>\n      <td>100.51</td>\n      <td>...</td>\n      <td>271.05</td>\n      <td>-185.07</td>\n      <td>190.34</td>\n      <td>6.00</td>\n      <td>39.82</td>\n      <td>104.84</td>\n      <td>54.20</td>\n      <td>-33.44</td>\n      <td>139.46</td>\n      <td>Up</td>\n    </tr>\n    <tr>\n      <th>64879</th>\n      <td>6.30</td>\n      <td>166.97</td>\n      <td>181.40</td>\n      <td>36.36</td>\n      <td>-20.49</td>\n      <td>134.89</td>\n      <td>100.51</td>\n      <td>-10.12</td>\n      <td>102.25</td>\n      <td>176.29</td>\n      <td>...</td>\n      <td>6.00</td>\n      <td>39.82</td>\n      <td>104.84</td>\n      <td>54.20</td>\n      <td>-33.44</td>\n      <td>139.46</td>\n      <td>222.82</td>\n      <td>-216.23</td>\n      <td>319.88</td>\n      <td>Down</td>\n    </tr>\n    <tr>\n      <th>64880</th>\n      <td>36.36</td>\n      <td>-20.49</td>\n      <td>134.89</td>\n      <td>100.51</td>\n      <td>-10.12</td>\n      <td>102.25</td>\n      <td>176.29</td>\n      <td>-59.25</td>\n      <td>156.43</td>\n      <td>117.41</td>\n      <td>...</td>\n      <td>54.20</td>\n      <td>-33.44</td>\n      <td>139.46</td>\n      <td>222.82</td>\n      <td>-216.23</td>\n      <td>319.88</td>\n      <td>127.67</td>\n      <td>43.83</td>\n      <td>172.35</td>\n      <td>Down</td>\n    </tr>\n  </tbody>\n</table>\n<p>64881 rows × 46 columns</p>\n</div>"
     },
     "metadata": {},
     "execution_count": 565
    }
   ],
   "source": [
    "b"
   ]
  },
  {
   "cell_type": "code",
   "execution_count": 566,
   "metadata": {},
   "outputs": [
    {
     "output_type": "execute_result",
     "data": {
      "text/plain": [
       "Down    36485\n",
       "Up      28396\n",
       "Name: Tag, dtype: int64"
      ]
     },
     "metadata": {},
     "execution_count": 566
    }
   ],
   "source": [
    "b['Tag'].value_counts()"
   ]
  },
  {
   "cell_type": "markdown",
   "metadata": {},
   "source": [
    "index add weight\n"
   ]
  },
  {
   "cell_type": "code",
   "execution_count": 580,
   "metadata": {},
   "outputs": [],
   "source": [
    "#arr=\n",
    "#b = b.drop(b[b.max(axis=1)==0].index)\n",
    "\n",
    "#Tag = b['Tag']\n",
    "\n",
    "#CHIA MAX SCALER\n",
    "#arr = b.drop('Tag',axis=1).div(b.max(axis=1),axis=0)\n",
    "\n",
    "#arr = arr.join(Tag)\n",
    "arr=b"
   ]
  },
  {
   "cell_type": "code",
   "execution_count": 581,
   "metadata": {},
   "outputs": [
    {
     "output_type": "execute_result",
     "data": {
      "text/plain": [
       "        high     now     low  high 1   now 1   low 1  high 2   now 2   low 2  \\\n",
       "0      22.20  -10.62   67.24    2.58   71.58   25.57   75.68  -71.92  101.62   \n",
       "1       2.58   71.58   25.57   75.68  -71.92  101.62   10.10    1.86   26.28   \n",
       "2      75.68  -71.92  101.62   10.10    1.86   26.28   45.40  -19.67   21.96   \n",
       "3      10.10    1.86   26.28   45.40  -19.67   21.96   10.52    5.33   16.97   \n",
       "4      45.40  -19.67   21.96   10.52    5.33   16.97   15.18   35.68    1.11   \n",
       "...      ...     ...     ...     ...     ...     ...     ...     ...     ...   \n",
       "64876  89.56  -27.43  103.16   15.12   38.79  122.16   83.84   41.08   70.23   \n",
       "64877  15.12   38.79  122.16   83.84   41.08   70.23    6.30  166.97  181.40   \n",
       "64878  83.84   41.08   70.23    6.30  166.97  181.40   36.36  -20.49  134.89   \n",
       "64879   6.30  166.97  181.40   36.36  -20.49  134.89  100.51  -10.12  102.25   \n",
       "64880  36.36  -20.49  134.89  100.51  -10.12  102.25  176.29  -59.25  156.43   \n",
       "\n",
       "       high 3  ...  high 12  now 12  low 12  high 13  now 13  low 13  high 14  \\\n",
       "0       10.10  ...    14.70   13.70   17.06    24.06    5.74   18.93    12.58   \n",
       "1       45.40  ...    24.06    5.74   18.93    12.58    5.85    2.34    34.11   \n",
       "2       10.52  ...    12.58    5.85    2.34    34.11  -33.40   35.14    22.07   \n",
       "3       15.18  ...    34.11  -33.40   35.14    22.07    3.53    7.52     3.66   \n",
       "4       15.48  ...    22.07    3.53    7.52     3.66   16.80    4.80    20.40   \n",
       "...       ...  ...      ...     ...     ...      ...     ...     ...      ...   \n",
       "64876    6.30  ...    31.49  398.69   83.35   264.92 -134.52  139.93   271.05   \n",
       "64877   36.36  ...   264.92 -134.52  139.93   271.05 -185.07  190.34     6.00   \n",
       "64878  100.51  ...   271.05 -185.07  190.34     6.00   39.82  104.84    54.20   \n",
       "64879  176.29  ...     6.00   39.82  104.84    54.20  -33.44  139.46   222.82   \n",
       "64880  117.41  ...    54.20  -33.44  139.46   222.82 -216.23  319.88   127.67   \n",
       "\n",
       "       now 14  low 14   Tag  \n",
       "0        5.85    2.34    Up  \n",
       "1      -33.40   35.14  Down  \n",
       "2        3.53    7.52  Down  \n",
       "3       16.80    4.80    Up  \n",
       "4      -12.11   19.93  Down  \n",
       "...       ...     ...   ...  \n",
       "64876 -185.07  190.34  Down  \n",
       "64877   39.82  104.84    Up  \n",
       "64878  -33.44  139.46    Up  \n",
       "64879 -216.23  319.88  Down  \n",
       "64880   43.83  172.35  Down  \n",
       "\n",
       "[64881 rows x 46 columns]"
      ],
      "text/html": "<div>\n<style scoped>\n    .dataframe tbody tr th:only-of-type {\n        vertical-align: middle;\n    }\n\n    .dataframe tbody tr th {\n        vertical-align: top;\n    }\n\n    .dataframe thead th {\n        text-align: right;\n    }\n</style>\n<table border=\"1\" class=\"dataframe\">\n  <thead>\n    <tr style=\"text-align: right;\">\n      <th></th>\n      <th>high</th>\n      <th>now</th>\n      <th>low</th>\n      <th>high 1</th>\n      <th>now 1</th>\n      <th>low 1</th>\n      <th>high 2</th>\n      <th>now 2</th>\n      <th>low 2</th>\n      <th>high 3</th>\n      <th>...</th>\n      <th>high 12</th>\n      <th>now 12</th>\n      <th>low 12</th>\n      <th>high 13</th>\n      <th>now 13</th>\n      <th>low 13</th>\n      <th>high 14</th>\n      <th>now 14</th>\n      <th>low 14</th>\n      <th>Tag</th>\n    </tr>\n  </thead>\n  <tbody>\n    <tr>\n      <th>0</th>\n      <td>22.20</td>\n      <td>-10.62</td>\n      <td>67.24</td>\n      <td>2.58</td>\n      <td>71.58</td>\n      <td>25.57</td>\n      <td>75.68</td>\n      <td>-71.92</td>\n      <td>101.62</td>\n      <td>10.10</td>\n      <td>...</td>\n      <td>14.70</td>\n      <td>13.70</td>\n      <td>17.06</td>\n      <td>24.06</td>\n      <td>5.74</td>\n      <td>18.93</td>\n      <td>12.58</td>\n      <td>5.85</td>\n      <td>2.34</td>\n      <td>Up</td>\n    </tr>\n    <tr>\n      <th>1</th>\n      <td>2.58</td>\n      <td>71.58</td>\n      <td>25.57</td>\n      <td>75.68</td>\n      <td>-71.92</td>\n      <td>101.62</td>\n      <td>10.10</td>\n      <td>1.86</td>\n      <td>26.28</td>\n      <td>45.40</td>\n      <td>...</td>\n      <td>24.06</td>\n      <td>5.74</td>\n      <td>18.93</td>\n      <td>12.58</td>\n      <td>5.85</td>\n      <td>2.34</td>\n      <td>34.11</td>\n      <td>-33.40</td>\n      <td>35.14</td>\n      <td>Down</td>\n    </tr>\n    <tr>\n      <th>2</th>\n      <td>75.68</td>\n      <td>-71.92</td>\n      <td>101.62</td>\n      <td>10.10</td>\n      <td>1.86</td>\n      <td>26.28</td>\n      <td>45.40</td>\n      <td>-19.67</td>\n      <td>21.96</td>\n      <td>10.52</td>\n      <td>...</td>\n      <td>12.58</td>\n      <td>5.85</td>\n      <td>2.34</td>\n      <td>34.11</td>\n      <td>-33.40</td>\n      <td>35.14</td>\n      <td>22.07</td>\n      <td>3.53</td>\n      <td>7.52</td>\n      <td>Down</td>\n    </tr>\n    <tr>\n      <th>3</th>\n      <td>10.10</td>\n      <td>1.86</td>\n      <td>26.28</td>\n      <td>45.40</td>\n      <td>-19.67</td>\n      <td>21.96</td>\n      <td>10.52</td>\n      <td>5.33</td>\n      <td>16.97</td>\n      <td>15.18</td>\n      <td>...</td>\n      <td>34.11</td>\n      <td>-33.40</td>\n      <td>35.14</td>\n      <td>22.07</td>\n      <td>3.53</td>\n      <td>7.52</td>\n      <td>3.66</td>\n      <td>16.80</td>\n      <td>4.80</td>\n      <td>Up</td>\n    </tr>\n    <tr>\n      <th>4</th>\n      <td>45.40</td>\n      <td>-19.67</td>\n      <td>21.96</td>\n      <td>10.52</td>\n      <td>5.33</td>\n      <td>16.97</td>\n      <td>15.18</td>\n      <td>35.68</td>\n      <td>1.11</td>\n      <td>15.48</td>\n      <td>...</td>\n      <td>22.07</td>\n      <td>3.53</td>\n      <td>7.52</td>\n      <td>3.66</td>\n      <td>16.80</td>\n      <td>4.80</td>\n      <td>20.40</td>\n      <td>-12.11</td>\n      <td>19.93</td>\n      <td>Down</td>\n    </tr>\n    <tr>\n      <th>...</th>\n      <td>...</td>\n      <td>...</td>\n      <td>...</td>\n      <td>...</td>\n      <td>...</td>\n      <td>...</td>\n      <td>...</td>\n      <td>...</td>\n      <td>...</td>\n      <td>...</td>\n      <td>...</td>\n      <td>...</td>\n      <td>...</td>\n      <td>...</td>\n      <td>...</td>\n      <td>...</td>\n      <td>...</td>\n      <td>...</td>\n      <td>...</td>\n      <td>...</td>\n      <td>...</td>\n    </tr>\n    <tr>\n      <th>64876</th>\n      <td>89.56</td>\n      <td>-27.43</td>\n      <td>103.16</td>\n      <td>15.12</td>\n      <td>38.79</td>\n      <td>122.16</td>\n      <td>83.84</td>\n      <td>41.08</td>\n      <td>70.23</td>\n      <td>6.30</td>\n      <td>...</td>\n      <td>31.49</td>\n      <td>398.69</td>\n      <td>83.35</td>\n      <td>264.92</td>\n      <td>-134.52</td>\n      <td>139.93</td>\n      <td>271.05</td>\n      <td>-185.07</td>\n      <td>190.34</td>\n      <td>Down</td>\n    </tr>\n    <tr>\n      <th>64877</th>\n      <td>15.12</td>\n      <td>38.79</td>\n      <td>122.16</td>\n      <td>83.84</td>\n      <td>41.08</td>\n      <td>70.23</td>\n      <td>6.30</td>\n      <td>166.97</td>\n      <td>181.40</td>\n      <td>36.36</td>\n      <td>...</td>\n      <td>264.92</td>\n      <td>-134.52</td>\n      <td>139.93</td>\n      <td>271.05</td>\n      <td>-185.07</td>\n      <td>190.34</td>\n      <td>6.00</td>\n      <td>39.82</td>\n      <td>104.84</td>\n      <td>Up</td>\n    </tr>\n    <tr>\n      <th>64878</th>\n      <td>83.84</td>\n      <td>41.08</td>\n      <td>70.23</td>\n      <td>6.30</td>\n      <td>166.97</td>\n      <td>181.40</td>\n      <td>36.36</td>\n      <td>-20.49</td>\n      <td>134.89</td>\n      <td>100.51</td>\n      <td>...</td>\n      <td>271.05</td>\n      <td>-185.07</td>\n      <td>190.34</td>\n      <td>6.00</td>\n      <td>39.82</td>\n      <td>104.84</td>\n      <td>54.20</td>\n      <td>-33.44</td>\n      <td>139.46</td>\n      <td>Up</td>\n    </tr>\n    <tr>\n      <th>64879</th>\n      <td>6.30</td>\n      <td>166.97</td>\n      <td>181.40</td>\n      <td>36.36</td>\n      <td>-20.49</td>\n      <td>134.89</td>\n      <td>100.51</td>\n      <td>-10.12</td>\n      <td>102.25</td>\n      <td>176.29</td>\n      <td>...</td>\n      <td>6.00</td>\n      <td>39.82</td>\n      <td>104.84</td>\n      <td>54.20</td>\n      <td>-33.44</td>\n      <td>139.46</td>\n      <td>222.82</td>\n      <td>-216.23</td>\n      <td>319.88</td>\n      <td>Down</td>\n    </tr>\n    <tr>\n      <th>64880</th>\n      <td>36.36</td>\n      <td>-20.49</td>\n      <td>134.89</td>\n      <td>100.51</td>\n      <td>-10.12</td>\n      <td>102.25</td>\n      <td>176.29</td>\n      <td>-59.25</td>\n      <td>156.43</td>\n      <td>117.41</td>\n      <td>...</td>\n      <td>54.20</td>\n      <td>-33.44</td>\n      <td>139.46</td>\n      <td>222.82</td>\n      <td>-216.23</td>\n      <td>319.88</td>\n      <td>127.67</td>\n      <td>43.83</td>\n      <td>172.35</td>\n      <td>Down</td>\n    </tr>\n  </tbody>\n</table>\n<p>64881 rows × 46 columns</p>\n</div>"
     },
     "metadata": {},
     "execution_count": 581
    }
   ],
   "source": [
    "arr"
   ]
  },
  {
   "cell_type": "code",
   "execution_count": 528,
   "metadata": {},
   "outputs": [
    {
     "output_type": "execute_result",
     "data": {
      "text/plain": [
       "         high     now     low  high 1   now 1   low 1  high 2   now 2   low 2  \\\n",
       "0       22.20  -10.62   67.24    2.58   71.58   25.57   75.68  -71.92  101.62   \n",
       "1        2.58   71.58   25.57   75.68  -71.92  101.62   10.10    1.86   26.28   \n",
       "2       75.68  -71.92  101.62   10.10    1.86   26.28   45.40  -19.67   21.96   \n",
       "3       10.10    1.86   26.28   45.40  -19.67   21.96   10.52    5.33   16.97   \n",
       "4       45.40  -19.67   21.96   10.52    5.33   16.97   15.18   35.68    1.11   \n",
       "...       ...     ...     ...     ...     ...     ...     ...     ...     ...   \n",
       "64888   31.49  398.69   83.35  264.92 -134.52  139.93  271.05 -185.07  190.34   \n",
       "64889  264.92 -134.52  139.93  271.05 -185.07  190.34    6.00   39.82  104.84   \n",
       "64890  271.05 -185.07  190.34    6.00   39.82  104.84   54.20  -33.44  139.46   \n",
       "64891    6.00   39.82  104.84   54.20  -33.44  139.46  222.82 -216.23  319.88   \n",
       "64892   54.20  -33.44  139.46  222.82 -216.23  319.88  127.67   43.83  172.35   \n",
       "\n",
       "        Tag  \n",
       "0        Up  \n",
       "1        Up  \n",
       "2      Down  \n",
       "3      Down  \n",
       "4      Down  \n",
       "...     ...  \n",
       "64888  Down  \n",
       "64889    Up  \n",
       "64890    Up  \n",
       "64891  Down  \n",
       "64892  Down  \n",
       "\n",
       "[64887 rows x 10 columns]"
      ],
      "text/html": "<div>\n<style scoped>\n    .dataframe tbody tr th:only-of-type {\n        vertical-align: middle;\n    }\n\n    .dataframe tbody tr th {\n        vertical-align: top;\n    }\n\n    .dataframe thead th {\n        text-align: right;\n    }\n</style>\n<table border=\"1\" class=\"dataframe\">\n  <thead>\n    <tr style=\"text-align: right;\">\n      <th></th>\n      <th>high</th>\n      <th>now</th>\n      <th>low</th>\n      <th>high 1</th>\n      <th>now 1</th>\n      <th>low 1</th>\n      <th>high 2</th>\n      <th>now 2</th>\n      <th>low 2</th>\n      <th>Tag</th>\n    </tr>\n  </thead>\n  <tbody>\n    <tr>\n      <th>0</th>\n      <td>22.20</td>\n      <td>-10.62</td>\n      <td>67.24</td>\n      <td>2.58</td>\n      <td>71.58</td>\n      <td>25.57</td>\n      <td>75.68</td>\n      <td>-71.92</td>\n      <td>101.62</td>\n      <td>Up</td>\n    </tr>\n    <tr>\n      <th>1</th>\n      <td>2.58</td>\n      <td>71.58</td>\n      <td>25.57</td>\n      <td>75.68</td>\n      <td>-71.92</td>\n      <td>101.62</td>\n      <td>10.10</td>\n      <td>1.86</td>\n      <td>26.28</td>\n      <td>Up</td>\n    </tr>\n    <tr>\n      <th>2</th>\n      <td>75.68</td>\n      <td>-71.92</td>\n      <td>101.62</td>\n      <td>10.10</td>\n      <td>1.86</td>\n      <td>26.28</td>\n      <td>45.40</td>\n      <td>-19.67</td>\n      <td>21.96</td>\n      <td>Down</td>\n    </tr>\n    <tr>\n      <th>3</th>\n      <td>10.10</td>\n      <td>1.86</td>\n      <td>26.28</td>\n      <td>45.40</td>\n      <td>-19.67</td>\n      <td>21.96</td>\n      <td>10.52</td>\n      <td>5.33</td>\n      <td>16.97</td>\n      <td>Down</td>\n    </tr>\n    <tr>\n      <th>4</th>\n      <td>45.40</td>\n      <td>-19.67</td>\n      <td>21.96</td>\n      <td>10.52</td>\n      <td>5.33</td>\n      <td>16.97</td>\n      <td>15.18</td>\n      <td>35.68</td>\n      <td>1.11</td>\n      <td>Down</td>\n    </tr>\n    <tr>\n      <th>...</th>\n      <td>...</td>\n      <td>...</td>\n      <td>...</td>\n      <td>...</td>\n      <td>...</td>\n      <td>...</td>\n      <td>...</td>\n      <td>...</td>\n      <td>...</td>\n      <td>...</td>\n    </tr>\n    <tr>\n      <th>64888</th>\n      <td>31.49</td>\n      <td>398.69</td>\n      <td>83.35</td>\n      <td>264.92</td>\n      <td>-134.52</td>\n      <td>139.93</td>\n      <td>271.05</td>\n      <td>-185.07</td>\n      <td>190.34</td>\n      <td>Down</td>\n    </tr>\n    <tr>\n      <th>64889</th>\n      <td>264.92</td>\n      <td>-134.52</td>\n      <td>139.93</td>\n      <td>271.05</td>\n      <td>-185.07</td>\n      <td>190.34</td>\n      <td>6.00</td>\n      <td>39.82</td>\n      <td>104.84</td>\n      <td>Up</td>\n    </tr>\n    <tr>\n      <th>64890</th>\n      <td>271.05</td>\n      <td>-185.07</td>\n      <td>190.34</td>\n      <td>6.00</td>\n      <td>39.82</td>\n      <td>104.84</td>\n      <td>54.20</td>\n      <td>-33.44</td>\n      <td>139.46</td>\n      <td>Up</td>\n    </tr>\n    <tr>\n      <th>64891</th>\n      <td>6.00</td>\n      <td>39.82</td>\n      <td>104.84</td>\n      <td>54.20</td>\n      <td>-33.44</td>\n      <td>139.46</td>\n      <td>222.82</td>\n      <td>-216.23</td>\n      <td>319.88</td>\n      <td>Down</td>\n    </tr>\n    <tr>\n      <th>64892</th>\n      <td>54.20</td>\n      <td>-33.44</td>\n      <td>139.46</td>\n      <td>222.82</td>\n      <td>-216.23</td>\n      <td>319.88</td>\n      <td>127.67</td>\n      <td>43.83</td>\n      <td>172.35</td>\n      <td>Down</td>\n    </tr>\n  </tbody>\n</table>\n<p>64887 rows × 10 columns</p>\n</div>"
     },
     "metadata": {},
     "execution_count": 528
    }
   ],
   "source": []
  },
  {
   "cell_type": "code",
   "execution_count": 582,
   "metadata": {},
   "outputs": [
    {
     "output_type": "execute_result",
     "data": {
      "text/plain": [
       "0"
      ]
     },
     "metadata": {},
     "execution_count": 582
    }
   ],
   "source": [
    "(b.max(axis=1)==0).sum()"
   ]
  },
  {
   "cell_type": "code",
   "execution_count": 583,
   "metadata": {},
   "outputs": [
    {
     "output_type": "execute_result",
     "data": {
      "text/plain": [
       "high       0\n",
       "now        0\n",
       "low        0\n",
       "high 1     0\n",
       "now 1      0\n",
       "low 1      0\n",
       "high 2     0\n",
       "now 2      0\n",
       "low 2      0\n",
       "high 3     0\n",
       "now 3      0\n",
       "low 3      0\n",
       "high 4     0\n",
       "now 4      0\n",
       "low 4      0\n",
       "high 5     0\n",
       "now 5      0\n",
       "low 5      0\n",
       "high 6     0\n",
       "now 6      0\n",
       "low 6      0\n",
       "high 7     0\n",
       "now 7      0\n",
       "low 7      0\n",
       "high 8     0\n",
       "now 8      0\n",
       "low 8      0\n",
       "high 9     0\n",
       "now 9      0\n",
       "low 9      0\n",
       "high 10    0\n",
       "now 10     0\n",
       "low 10     0\n",
       "high 11    0\n",
       "now 11     0\n",
       "low 11     0\n",
       "high 12    0\n",
       "now 12     0\n",
       "low 12     0\n",
       "high 13    0\n",
       "now 13     0\n",
       "low 13     0\n",
       "high 14    0\n",
       "now 14     0\n",
       "low 14     0\n",
       "dtype: int64"
      ]
     },
     "metadata": {},
     "execution_count": 583
    }
   ],
   "source": [
    "b.drop('Tag',axis=1).div(b.max(axis=1),axis=0).isna().sum()"
   ]
  },
  {
   "cell_type": "code",
   "execution_count": 448,
   "metadata": {},
   "outputs": [
    {
     "output_type": "error",
     "ename": "SyntaxError",
     "evalue": "invalid syntax (<ipython-input-448-618920615d00>, line 1)",
     "traceback": [
      "\u001b[0;36m  File \u001b[0;32m\"<ipython-input-448-618920615d00>\"\u001b[0;36m, line \u001b[0;32m1\u001b[0m\n\u001b[0;31m    arr.\u001b[0m\n\u001b[0m        ^\u001b[0m\n\u001b[0;31mSyntaxError\u001b[0m\u001b[0;31m:\u001b[0m invalid syntax\n"
     ]
    }
   ],
   "source": []
  },
  {
   "cell_type": "code",
   "execution_count": 584,
   "metadata": {},
   "outputs": [],
   "source": [
    "y_sr = arr[\"Tag\"] \n",
    "X_df = arr.drop(\"Tag\", axis=1)"
   ]
  },
  {
   "cell_type": "code",
   "execution_count": 585,
   "metadata": {},
   "outputs": [
    {
     "output_type": "execute_result",
     "data": {
      "text/plain": [
       "high       0\n",
       "now        0\n",
       "low        0\n",
       "high 1     0\n",
       "now 1      0\n",
       "low 1      0\n",
       "high 2     0\n",
       "now 2      0\n",
       "low 2      0\n",
       "high 3     0\n",
       "now 3      0\n",
       "low 3      0\n",
       "high 4     0\n",
       "now 4      0\n",
       "low 4      0\n",
       "high 5     0\n",
       "now 5      0\n",
       "low 5      0\n",
       "high 6     0\n",
       "now 6      0\n",
       "low 6      0\n",
       "high 7     0\n",
       "now 7      0\n",
       "low 7      0\n",
       "high 8     0\n",
       "now 8      0\n",
       "low 8      0\n",
       "high 9     0\n",
       "now 9      0\n",
       "low 9      0\n",
       "high 10    0\n",
       "now 10     0\n",
       "low 10     0\n",
       "high 11    0\n",
       "now 11     0\n",
       "low 11     0\n",
       "high 12    0\n",
       "now 12     0\n",
       "low 12     0\n",
       "high 13    0\n",
       "now 13     0\n",
       "low 13     0\n",
       "high 14    0\n",
       "now 14     0\n",
       "low 14     0\n",
       "dtype: int64"
      ]
     },
     "metadata": {},
     "execution_count": 585
    }
   ],
   "source": [
    "train_X_df.isna().sum()"
   ]
  },
  {
   "cell_type": "code",
   "execution_count": 586,
   "metadata": {},
   "outputs": [],
   "source": [
    "\n",
    "train_X_df, val_X_df, train_y_sr, val_y_sr = train_test_split(X_df, y_sr, test_size=0.3, random_state=0)"
   ]
  },
  {
   "cell_type": "code",
   "execution_count": null,
   "metadata": {},
   "outputs": [],
   "source": []
  },
  {
   "cell_type": "code",
   "execution_count": 587,
   "metadata": {},
   "outputs": [],
   "source": [
    "mlpc = MLPClassifier(hidden_layer_sizes=(100),random_state=0, max_iter=2500)"
   ]
  },
  {
   "cell_type": "code",
   "execution_count": 593,
   "metadata": {},
   "outputs": [],
   "source": [
    "full_pipeline = make_pipeline(MinMaxScaler(),mlpc)\n"
   ]
  },
  {
   "cell_type": "code",
   "execution_count": 594,
   "metadata": {},
   "outputs": [
    {
     "output_type": "execute_result",
     "data": {
      "text/plain": [
       "Pipeline(steps=[('minmaxscaler', MinMaxScaler()),\n",
       "                ('mlpclassifier',\n",
       "                 MLPClassifier(hidden_layer_sizes=100, max_iter=2500,\n",
       "                               random_state=0))])"
      ]
     },
     "metadata": {},
     "execution_count": 594
    }
   ],
   "source": [
    "full_pipeline.fit(train_X_df, train_y_sr)"
   ]
  },
  {
   "cell_type": "code",
   "execution_count": 595,
   "metadata": {},
   "outputs": [
    {
     "output_type": "execute_result",
     "data": {
      "text/plain": [
       "0.5642948882609813"
      ]
     },
     "metadata": {},
     "execution_count": 595
    }
   ],
   "source": [
    "full_pipeline.score(val_X_df , val_y_sr )"
   ]
  },
  {
   "cell_type": "code",
   "execution_count": 591,
   "metadata": {},
   "outputs": [
    {
     "output_type": "execute_result",
     "data": {
      "text/plain": [
       "Pipeline(steps=[('mlpclassifier',\n",
       "                 MLPClassifier(hidden_layer_sizes=100, max_iter=2500,\n",
       "                               random_state=0))])"
      ]
     },
     "metadata": {},
     "execution_count": 591
    }
   ],
   "source": [
    "full_pipeline.fit(val_X_df , val_y_sr )"
   ]
  },
  {
   "cell_type": "code",
   "execution_count": 592,
   "metadata": {},
   "outputs": [
    {
     "output_type": "execute_result",
     "data": {
      "text/plain": [
       "0.5617843931654043"
      ]
     },
     "metadata": {},
     "execution_count": 592
    }
   ],
   "source": [
    "full_pipeline.score(train_X_df, train_y_sr)"
   ]
  },
  {
   "source": [
    "# Làm quả hàm chuẩn bị dữ lịu tét"
   ],
   "cell_type": "markdown",
   "metadata": {
    "scrolled": false
   }
  },
  {
   "cell_type": "code",
   "execution_count": 365,
   "metadata": {},
   "outputs": [
    {
     "output_type": "execute_result",
     "data": {
      "text/plain": [
       "         high     now     low  high 1   now 1   low 1  high 2   now 2   low 2  \\\n",
       "0       22.20  -10.62   67.24    2.58   71.58   25.57   75.68  -71.92  101.62   \n",
       "1        2.58   71.58   25.57   75.68  -71.92  101.62   10.10    1.86   26.28   \n",
       "2       75.68  -71.92  101.62   10.10    1.86   26.28   45.40  -19.67   21.96   \n",
       "3       10.10    1.86   26.28   45.40  -19.67   21.96   10.52    5.33   16.97   \n",
       "4       45.40  -19.67   21.96   10.52    5.33   16.97   15.18   35.68    1.11   \n",
       "...       ...     ...     ...     ...     ...     ...     ...     ...     ...   \n",
       "64883  117.41  -50.09  192.22  727.65 -712.66  771.97  161.26 -111.91  222.54   \n",
       "64884  727.65 -712.66  771.97  161.26 -111.91  222.54  346.09 -251.57  251.58   \n",
       "64885  161.26 -111.91  222.54  346.09 -251.57  251.58  209.52   18.45  118.68   \n",
       "64886  346.09 -251.57  251.58  209.52   18.45  118.68   31.49  398.69   83.35   \n",
       "64887  209.52   18.45  118.68   31.49  398.69   83.35  264.92 -134.52  139.93   \n",
       "\n",
       "       high 3  ...  high 5   now 5   low 5  high 6   now 6   low 6  high 7  \\\n",
       "0       10.10  ...   10.52    5.33   16.97   15.18   35.68    1.11   15.48   \n",
       "1       45.40  ...   15.18   35.68    1.11   15.48   -3.89   52.75   18.99   \n",
       "2       10.52  ...   15.48   -3.89   52.75   18.99   20.12    3.86   54.13   \n",
       "3       15.18  ...   18.99   20.12    3.86   54.13  -52.46   52.48   37.47   \n",
       "4       15.48  ...   54.13  -52.46   52.48   37.47  -24.15   33.68    6.42   \n",
       "...       ...  ...     ...     ...     ...     ...     ...     ...     ...   \n",
       "64883  346.09  ...   31.49  398.69   83.35  264.92 -134.52  139.93  271.05   \n",
       "64884  209.52  ...  264.92 -134.52  139.93  271.05 -185.07  190.34    6.00   \n",
       "64885   31.49  ...  271.05 -185.07  190.34    6.00   39.82  104.84   54.20   \n",
       "64886  264.92  ...    6.00   39.82  104.84   54.20  -33.44  139.46  222.82   \n",
       "64887  271.05  ...   54.20  -33.44  139.46  222.82 -216.23  319.88  127.67   \n",
       "\n",
       "        now 7   low 7   Tag  \n",
       "0       -3.89   52.75    Up  \n",
       "1       20.12    3.86    Up  \n",
       "2      -52.46   52.48    Up  \n",
       "3      -24.15   33.68  Down  \n",
       "4       13.56    4.08  Down  \n",
       "...       ...     ...   ...  \n",
       "64883 -185.07  190.34  Down  \n",
       "64884   39.82  104.84    Up  \n",
       "64885  -33.44  139.46    Up  \n",
       "64886 -216.23  319.88  Down  \n",
       "64887   43.83  172.35  Down  \n",
       "\n",
       "[64888 rows x 25 columns]"
      ],
      "text/html": "<div>\n<style scoped>\n    .dataframe tbody tr th:only-of-type {\n        vertical-align: middle;\n    }\n\n    .dataframe tbody tr th {\n        vertical-align: top;\n    }\n\n    .dataframe thead th {\n        text-align: right;\n    }\n</style>\n<table border=\"1\" class=\"dataframe\">\n  <thead>\n    <tr style=\"text-align: right;\">\n      <th></th>\n      <th>high</th>\n      <th>now</th>\n      <th>low</th>\n      <th>high 1</th>\n      <th>now 1</th>\n      <th>low 1</th>\n      <th>high 2</th>\n      <th>now 2</th>\n      <th>low 2</th>\n      <th>high 3</th>\n      <th>...</th>\n      <th>high 5</th>\n      <th>now 5</th>\n      <th>low 5</th>\n      <th>high 6</th>\n      <th>now 6</th>\n      <th>low 6</th>\n      <th>high 7</th>\n      <th>now 7</th>\n      <th>low 7</th>\n      <th>Tag</th>\n    </tr>\n  </thead>\n  <tbody>\n    <tr>\n      <th>0</th>\n      <td>22.20</td>\n      <td>-10.62</td>\n      <td>67.24</td>\n      <td>2.58</td>\n      <td>71.58</td>\n      <td>25.57</td>\n      <td>75.68</td>\n      <td>-71.92</td>\n      <td>101.62</td>\n      <td>10.10</td>\n      <td>...</td>\n      <td>10.52</td>\n      <td>5.33</td>\n      <td>16.97</td>\n      <td>15.18</td>\n      <td>35.68</td>\n      <td>1.11</td>\n      <td>15.48</td>\n      <td>-3.89</td>\n      <td>52.75</td>\n      <td>Up</td>\n    </tr>\n    <tr>\n      <th>1</th>\n      <td>2.58</td>\n      <td>71.58</td>\n      <td>25.57</td>\n      <td>75.68</td>\n      <td>-71.92</td>\n      <td>101.62</td>\n      <td>10.10</td>\n      <td>1.86</td>\n      <td>26.28</td>\n      <td>45.40</td>\n      <td>...</td>\n      <td>15.18</td>\n      <td>35.68</td>\n      <td>1.11</td>\n      <td>15.48</td>\n      <td>-3.89</td>\n      <td>52.75</td>\n      <td>18.99</td>\n      <td>20.12</td>\n      <td>3.86</td>\n      <td>Up</td>\n    </tr>\n    <tr>\n      <th>2</th>\n      <td>75.68</td>\n      <td>-71.92</td>\n      <td>101.62</td>\n      <td>10.10</td>\n      <td>1.86</td>\n      <td>26.28</td>\n      <td>45.40</td>\n      <td>-19.67</td>\n      <td>21.96</td>\n      <td>10.52</td>\n      <td>...</td>\n      <td>15.48</td>\n      <td>-3.89</td>\n      <td>52.75</td>\n      <td>18.99</td>\n      <td>20.12</td>\n      <td>3.86</td>\n      <td>54.13</td>\n      <td>-52.46</td>\n      <td>52.48</td>\n      <td>Up</td>\n    </tr>\n    <tr>\n      <th>3</th>\n      <td>10.10</td>\n      <td>1.86</td>\n      <td>26.28</td>\n      <td>45.40</td>\n      <td>-19.67</td>\n      <td>21.96</td>\n      <td>10.52</td>\n      <td>5.33</td>\n      <td>16.97</td>\n      <td>15.18</td>\n      <td>...</td>\n      <td>18.99</td>\n      <td>20.12</td>\n      <td>3.86</td>\n      <td>54.13</td>\n      <td>-52.46</td>\n      <td>52.48</td>\n      <td>37.47</td>\n      <td>-24.15</td>\n      <td>33.68</td>\n      <td>Down</td>\n    </tr>\n    <tr>\n      <th>4</th>\n      <td>45.40</td>\n      <td>-19.67</td>\n      <td>21.96</td>\n      <td>10.52</td>\n      <td>5.33</td>\n      <td>16.97</td>\n      <td>15.18</td>\n      <td>35.68</td>\n      <td>1.11</td>\n      <td>15.48</td>\n      <td>...</td>\n      <td>54.13</td>\n      <td>-52.46</td>\n      <td>52.48</td>\n      <td>37.47</td>\n      <td>-24.15</td>\n      <td>33.68</td>\n      <td>6.42</td>\n      <td>13.56</td>\n      <td>4.08</td>\n      <td>Down</td>\n    </tr>\n    <tr>\n      <th>...</th>\n      <td>...</td>\n      <td>...</td>\n      <td>...</td>\n      <td>...</td>\n      <td>...</td>\n      <td>...</td>\n      <td>...</td>\n      <td>...</td>\n      <td>...</td>\n      <td>...</td>\n      <td>...</td>\n      <td>...</td>\n      <td>...</td>\n      <td>...</td>\n      <td>...</td>\n      <td>...</td>\n      <td>...</td>\n      <td>...</td>\n      <td>...</td>\n      <td>...</td>\n      <td>...</td>\n    </tr>\n    <tr>\n      <th>64883</th>\n      <td>117.41</td>\n      <td>-50.09</td>\n      <td>192.22</td>\n      <td>727.65</td>\n      <td>-712.66</td>\n      <td>771.97</td>\n      <td>161.26</td>\n      <td>-111.91</td>\n      <td>222.54</td>\n      <td>346.09</td>\n      <td>...</td>\n      <td>31.49</td>\n      <td>398.69</td>\n      <td>83.35</td>\n      <td>264.92</td>\n      <td>-134.52</td>\n      <td>139.93</td>\n      <td>271.05</td>\n      <td>-185.07</td>\n      <td>190.34</td>\n      <td>Down</td>\n    </tr>\n    <tr>\n      <th>64884</th>\n      <td>727.65</td>\n      <td>-712.66</td>\n      <td>771.97</td>\n      <td>161.26</td>\n      <td>-111.91</td>\n      <td>222.54</td>\n      <td>346.09</td>\n      <td>-251.57</td>\n      <td>251.58</td>\n      <td>209.52</td>\n      <td>...</td>\n      <td>264.92</td>\n      <td>-134.52</td>\n      <td>139.93</td>\n      <td>271.05</td>\n      <td>-185.07</td>\n      <td>190.34</td>\n      <td>6.00</td>\n      <td>39.82</td>\n      <td>104.84</td>\n      <td>Up</td>\n    </tr>\n    <tr>\n      <th>64885</th>\n      <td>161.26</td>\n      <td>-111.91</td>\n      <td>222.54</td>\n      <td>346.09</td>\n      <td>-251.57</td>\n      <td>251.58</td>\n      <td>209.52</td>\n      <td>18.45</td>\n      <td>118.68</td>\n      <td>31.49</td>\n      <td>...</td>\n      <td>271.05</td>\n      <td>-185.07</td>\n      <td>190.34</td>\n      <td>6.00</td>\n      <td>39.82</td>\n      <td>104.84</td>\n      <td>54.20</td>\n      <td>-33.44</td>\n      <td>139.46</td>\n      <td>Up</td>\n    </tr>\n    <tr>\n      <th>64886</th>\n      <td>346.09</td>\n      <td>-251.57</td>\n      <td>251.58</td>\n      <td>209.52</td>\n      <td>18.45</td>\n      <td>118.68</td>\n      <td>31.49</td>\n      <td>398.69</td>\n      <td>83.35</td>\n      <td>264.92</td>\n      <td>...</td>\n      <td>6.00</td>\n      <td>39.82</td>\n      <td>104.84</td>\n      <td>54.20</td>\n      <td>-33.44</td>\n      <td>139.46</td>\n      <td>222.82</td>\n      <td>-216.23</td>\n      <td>319.88</td>\n      <td>Down</td>\n    </tr>\n    <tr>\n      <th>64887</th>\n      <td>209.52</td>\n      <td>18.45</td>\n      <td>118.68</td>\n      <td>31.49</td>\n      <td>398.69</td>\n      <td>83.35</td>\n      <td>264.92</td>\n      <td>-134.52</td>\n      <td>139.93</td>\n      <td>271.05</td>\n      <td>...</td>\n      <td>54.20</td>\n      <td>-33.44</td>\n      <td>139.46</td>\n      <td>222.82</td>\n      <td>-216.23</td>\n      <td>319.88</td>\n      <td>127.67</td>\n      <td>43.83</td>\n      <td>172.35</td>\n      <td>Down</td>\n    </tr>\n  </tbody>\n</table>\n<p>64888 rows × 25 columns</p>\n</div>"
     },
     "metadata": {},
     "execution_count": 365
    }
   ],
   "source": [
    "b"
   ]
  },
  {
   "cell_type": "code",
   "execution_count": 250,
   "metadata": {},
   "outputs": [
    {
     "output_type": "execute_result",
     "data": {
      "text/plain": [
       "array(['Down', 'Down', 'Down', 'Down', 'Down', 'Down', 'Down', 'Down',\n",
       "       'Down', 'Down'], dtype='<U4')"
      ]
     },
     "metadata": {},
     "execution_count": 250
    }
   ],
   "source": [
    "full_pipeline.predict(val_X_df.tail(10))"
   ]
  },
  {
   "cell_type": "code",
   "execution_count": 327,
   "metadata": {},
   "outputs": [
    {
     "output_type": "execute_result",
     "data": {
      "text/plain": [
       "array([[0.51057224, 0.48942776],\n",
       "       [0.54235313, 0.45764687],\n",
       "       [0.61968891, 0.38031109],\n",
       "       [0.60422429, 0.39577571],\n",
       "       [0.52354495, 0.47645505],\n",
       "       [0.52658549, 0.47341451],\n",
       "       [0.59218376, 0.40781624],\n",
       "       [0.61095898, 0.38904102],\n",
       "       [0.64902369, 0.35097631],\n",
       "       [0.60748307, 0.39251693]])"
      ]
     },
     "metadata": {},
     "execution_count": 327
    }
   ],
   "source": [
    "full_pipeline.predict_proba(val_X_df.tail(10))"
   ]
  },
  {
   "cell_type": "code",
   "execution_count": 328,
   "metadata": {},
   "outputs": [
    {
     "output_type": "execute_result",
     "data": {
      "text/plain": [
       "18646    Down\n",
       "38137    Down\n",
       "41685    Down\n",
       "51575    Down\n",
       "23936    Down\n",
       "22514    Down\n",
       "60085    Down\n",
       "2407     Down\n",
       "8362       Up\n",
       "2375       Up\n",
       "Name: Tag, dtype: object"
      ]
     },
     "metadata": {},
     "execution_count": 328
    }
   ],
   "source": [
    "val_y_sr.tail(10)"
   ]
  },
  {
   "cell_type": "code",
   "execution_count": 329,
   "metadata": {},
   "outputs": [],
   "source": [
    "pro_arr = full_pipeline.predict_proba(val_X_df)"
   ]
  },
  {
   "cell_type": "code",
   "execution_count": 332,
   "metadata": {},
   "outputs": [
    {
     "output_type": "execute_result",
     "data": {
      "text/plain": [
       "98"
      ]
     },
     "metadata": {},
     "execution_count": 332
    }
   ],
   "source": [
    "np.sum((pro_arr[:,1]>0.6))"
   ]
  },
  {
   "cell_type": "code",
   "execution_count": 204,
   "metadata": {},
   "outputs": [
    {
     "output_type": "error",
     "ename": "BinanceAPIException",
     "evalue": "APIError(code=-2015): Invalid API-key, IP, or permissions for action.",
     "traceback": [
      "\u001b[0;31m---------------------------------------------------------------------------\u001b[0m",
      "\u001b[0;31mBinanceAPIException\u001b[0m                       Traceback (most recent call last)",
      "\u001b[0;32m<ipython-input-204-3a7178e68e6a>\u001b[0m in \u001b[0;36m<module>\u001b[0;34m\u001b[0m\n\u001b[1;32m     30\u001b[0m     \u001b[0;31m# Wherever you've saved this code is the same directory you will find the resulting CSV file\u001b[0m\u001b[0;34m\u001b[0m\u001b[0;34m\u001b[0m\u001b[0;34m\u001b[0m\u001b[0m\n\u001b[1;32m     31\u001b[0m     \u001b[0;31m#binanceBarExtractor('BTCUSDT')\u001b[0m\u001b[0;34m\u001b[0m\u001b[0;34m\u001b[0m\u001b[0;34m\u001b[0m\u001b[0m\n\u001b[0;32m---> 32\u001b[0;31m     \u001b[0mbalance\u001b[0m \u001b[0;34m=\u001b[0m \u001b[0mbclient\u001b[0m\u001b[0;34m.\u001b[0m\u001b[0mget_asset_balance\u001b[0m\u001b[0;34m(\u001b[0m\u001b[0masset\u001b[0m\u001b[0;34m=\u001b[0m\u001b[0;34m'REEF'\u001b[0m\u001b[0;34m)\u001b[0m\u001b[0;34m\u001b[0m\u001b[0;34m\u001b[0m\u001b[0m\n\u001b[0m\u001b[1;32m     33\u001b[0m     \u001b[0mprint\u001b[0m\u001b[0;34m(\u001b[0m\u001b[0mbalance\u001b[0m\u001b[0;34m)\u001b[0m\u001b[0;34m\u001b[0m\u001b[0;34m\u001b[0m\u001b[0m\n",
      "\u001b[0;32m~/anaconda3/lib/python3.7/site-packages/binance/client.py\u001b[0m in \u001b[0;36mget_asset_balance\u001b[0;34m(self, asset, **params)\u001b[0m\n\u001b[1;32m   1790\u001b[0m \u001b[0;34m\u001b[0m\u001b[0m\n\u001b[1;32m   1791\u001b[0m         \"\"\"\n\u001b[0;32m-> 1792\u001b[0;31m         \u001b[0mres\u001b[0m \u001b[0;34m=\u001b[0m \u001b[0mself\u001b[0m\u001b[0;34m.\u001b[0m\u001b[0mget_account\u001b[0m\u001b[0;34m(\u001b[0m\u001b[0;34m**\u001b[0m\u001b[0mparams\u001b[0m\u001b[0;34m)\u001b[0m\u001b[0;34m\u001b[0m\u001b[0;34m\u001b[0m\u001b[0m\n\u001b[0m\u001b[1;32m   1793\u001b[0m         \u001b[0;31m# find asset balance in list of balances\u001b[0m\u001b[0;34m\u001b[0m\u001b[0;34m\u001b[0m\u001b[0;34m\u001b[0m\u001b[0m\n\u001b[1;32m   1794\u001b[0m         \u001b[0;32mif\u001b[0m \u001b[0;34m\"balances\"\u001b[0m \u001b[0;32min\u001b[0m \u001b[0mres\u001b[0m\u001b[0;34m:\u001b[0m\u001b[0;34m\u001b[0m\u001b[0;34m\u001b[0m\u001b[0m\n",
      "\u001b[0;32m~/anaconda3/lib/python3.7/site-packages/binance/client.py\u001b[0m in \u001b[0;36mget_account\u001b[0;34m(self, **params)\u001b[0m\n\u001b[1;32m   1765\u001b[0m \u001b[0;34m\u001b[0m\u001b[0m\n\u001b[1;32m   1766\u001b[0m         \"\"\"\n\u001b[0;32m-> 1767\u001b[0;31m         \u001b[0;32mreturn\u001b[0m \u001b[0mself\u001b[0m\u001b[0;34m.\u001b[0m\u001b[0m_get\u001b[0m\u001b[0;34m(\u001b[0m\u001b[0;34m'account'\u001b[0m\u001b[0;34m,\u001b[0m \u001b[0;32mTrue\u001b[0m\u001b[0;34m,\u001b[0m \u001b[0mdata\u001b[0m\u001b[0;34m=\u001b[0m\u001b[0mparams\u001b[0m\u001b[0;34m)\u001b[0m\u001b[0;34m\u001b[0m\u001b[0;34m\u001b[0m\u001b[0m\n\u001b[0m\u001b[1;32m   1768\u001b[0m \u001b[0;34m\u001b[0m\u001b[0m\n\u001b[1;32m   1769\u001b[0m     \u001b[0;32mdef\u001b[0m \u001b[0mget_asset_balance\u001b[0m\u001b[0;34m(\u001b[0m\u001b[0mself\u001b[0m\u001b[0;34m,\u001b[0m \u001b[0masset\u001b[0m\u001b[0;34m,\u001b[0m \u001b[0;34m**\u001b[0m\u001b[0mparams\u001b[0m\u001b[0;34m)\u001b[0m\u001b[0;34m:\u001b[0m\u001b[0;34m\u001b[0m\u001b[0;34m\u001b[0m\u001b[0m\n",
      "\u001b[0;32m~/anaconda3/lib/python3.7/site-packages/binance/client.py\u001b[0m in \u001b[0;36m_get\u001b[0;34m(self, path, signed, version, **kwargs)\u001b[0m\n\u001b[1;32m    235\u001b[0m \u001b[0;34m\u001b[0m\u001b[0m\n\u001b[1;32m    236\u001b[0m     \u001b[0;32mdef\u001b[0m \u001b[0m_get\u001b[0m\u001b[0;34m(\u001b[0m\u001b[0mself\u001b[0m\u001b[0;34m,\u001b[0m \u001b[0mpath\u001b[0m\u001b[0;34m,\u001b[0m \u001b[0msigned\u001b[0m\u001b[0;34m=\u001b[0m\u001b[0;32mFalse\u001b[0m\u001b[0;34m,\u001b[0m \u001b[0mversion\u001b[0m\u001b[0;34m=\u001b[0m\u001b[0mPUBLIC_API_VERSION\u001b[0m\u001b[0;34m,\u001b[0m \u001b[0;34m**\u001b[0m\u001b[0mkwargs\u001b[0m\u001b[0;34m)\u001b[0m\u001b[0;34m:\u001b[0m\u001b[0;34m\u001b[0m\u001b[0;34m\u001b[0m\u001b[0m\n\u001b[0;32m--> 237\u001b[0;31m         \u001b[0;32mreturn\u001b[0m \u001b[0mself\u001b[0m\u001b[0;34m.\u001b[0m\u001b[0m_request_api\u001b[0m\u001b[0;34m(\u001b[0m\u001b[0;34m'get'\u001b[0m\u001b[0;34m,\u001b[0m \u001b[0mpath\u001b[0m\u001b[0;34m,\u001b[0m \u001b[0msigned\u001b[0m\u001b[0;34m,\u001b[0m \u001b[0mversion\u001b[0m\u001b[0;34m,\u001b[0m \u001b[0;34m**\u001b[0m\u001b[0mkwargs\u001b[0m\u001b[0;34m)\u001b[0m\u001b[0;34m\u001b[0m\u001b[0;34m\u001b[0m\u001b[0m\n\u001b[0m\u001b[1;32m    238\u001b[0m \u001b[0;34m\u001b[0m\u001b[0m\n\u001b[1;32m    239\u001b[0m     \u001b[0;32mdef\u001b[0m \u001b[0m_post\u001b[0m\u001b[0;34m(\u001b[0m\u001b[0mself\u001b[0m\u001b[0;34m,\u001b[0m \u001b[0mpath\u001b[0m\u001b[0;34m,\u001b[0m \u001b[0msigned\u001b[0m\u001b[0;34m=\u001b[0m\u001b[0;32mFalse\u001b[0m\u001b[0;34m,\u001b[0m \u001b[0mversion\u001b[0m\u001b[0;34m=\u001b[0m\u001b[0mPUBLIC_API_VERSION\u001b[0m\u001b[0;34m,\u001b[0m \u001b[0;34m**\u001b[0m\u001b[0mkwargs\u001b[0m\u001b[0;34m)\u001b[0m\u001b[0;34m:\u001b[0m\u001b[0;34m\u001b[0m\u001b[0;34m\u001b[0m\u001b[0m\n",
      "\u001b[0;32m~/anaconda3/lib/python3.7/site-packages/binance/client.py\u001b[0m in \u001b[0;36m_request_api\u001b[0;34m(self, method, path, signed, version, **kwargs)\u001b[0m\n\u001b[1;32m    200\u001b[0m         \u001b[0muri\u001b[0m \u001b[0;34m=\u001b[0m \u001b[0mself\u001b[0m\u001b[0;34m.\u001b[0m\u001b[0m_create_api_uri\u001b[0m\u001b[0;34m(\u001b[0m\u001b[0mpath\u001b[0m\u001b[0;34m,\u001b[0m \u001b[0msigned\u001b[0m\u001b[0;34m,\u001b[0m \u001b[0mversion\u001b[0m\u001b[0;34m)\u001b[0m\u001b[0;34m\u001b[0m\u001b[0;34m\u001b[0m\u001b[0m\n\u001b[1;32m    201\u001b[0m \u001b[0;34m\u001b[0m\u001b[0m\n\u001b[0;32m--> 202\u001b[0;31m         \u001b[0;32mreturn\u001b[0m \u001b[0mself\u001b[0m\u001b[0;34m.\u001b[0m\u001b[0m_request\u001b[0m\u001b[0;34m(\u001b[0m\u001b[0mmethod\u001b[0m\u001b[0;34m,\u001b[0m \u001b[0muri\u001b[0m\u001b[0;34m,\u001b[0m \u001b[0msigned\u001b[0m\u001b[0;34m,\u001b[0m \u001b[0;34m**\u001b[0m\u001b[0mkwargs\u001b[0m\u001b[0;34m)\u001b[0m\u001b[0;34m\u001b[0m\u001b[0;34m\u001b[0m\u001b[0m\n\u001b[0m\u001b[1;32m    203\u001b[0m \u001b[0;34m\u001b[0m\u001b[0m\n\u001b[1;32m    204\u001b[0m     \u001b[0;32mdef\u001b[0m \u001b[0m_request_withdraw_api\u001b[0m\u001b[0;34m(\u001b[0m\u001b[0mself\u001b[0m\u001b[0;34m,\u001b[0m \u001b[0mmethod\u001b[0m\u001b[0;34m,\u001b[0m \u001b[0mpath\u001b[0m\u001b[0;34m,\u001b[0m \u001b[0msigned\u001b[0m\u001b[0;34m=\u001b[0m\u001b[0;32mFalse\u001b[0m\u001b[0;34m,\u001b[0m \u001b[0;34m**\u001b[0m\u001b[0mkwargs\u001b[0m\u001b[0;34m)\u001b[0m\u001b[0;34m:\u001b[0m\u001b[0;34m\u001b[0m\u001b[0;34m\u001b[0m\u001b[0m\n",
      "\u001b[0;32m~/anaconda3/lib/python3.7/site-packages/binance/client.py\u001b[0m in \u001b[0;36m_request\u001b[0;34m(self, method, uri, signed, force_params, **kwargs)\u001b[0m\n\u001b[1;32m    195\u001b[0m \u001b[0;34m\u001b[0m\u001b[0m\n\u001b[1;32m    196\u001b[0m         \u001b[0mself\u001b[0m\u001b[0;34m.\u001b[0m\u001b[0mresponse\u001b[0m \u001b[0;34m=\u001b[0m \u001b[0mgetattr\u001b[0m\u001b[0;34m(\u001b[0m\u001b[0mself\u001b[0m\u001b[0;34m.\u001b[0m\u001b[0msession\u001b[0m\u001b[0;34m,\u001b[0m \u001b[0mmethod\u001b[0m\u001b[0;34m)\u001b[0m\u001b[0;34m(\u001b[0m\u001b[0muri\u001b[0m\u001b[0;34m,\u001b[0m \u001b[0;34m**\u001b[0m\u001b[0mkwargs\u001b[0m\u001b[0;34m)\u001b[0m\u001b[0;34m\u001b[0m\u001b[0;34m\u001b[0m\u001b[0m\n\u001b[0;32m--> 197\u001b[0;31m         \u001b[0;32mreturn\u001b[0m \u001b[0mself\u001b[0m\u001b[0;34m.\u001b[0m\u001b[0m_handle_response\u001b[0m\u001b[0;34m(\u001b[0m\u001b[0;34m)\u001b[0m\u001b[0;34m\u001b[0m\u001b[0;34m\u001b[0m\u001b[0m\n\u001b[0m\u001b[1;32m    198\u001b[0m \u001b[0;34m\u001b[0m\u001b[0m\n\u001b[1;32m    199\u001b[0m     \u001b[0;32mdef\u001b[0m \u001b[0m_request_api\u001b[0m\u001b[0;34m(\u001b[0m\u001b[0mself\u001b[0m\u001b[0;34m,\u001b[0m \u001b[0mmethod\u001b[0m\u001b[0;34m,\u001b[0m \u001b[0mpath\u001b[0m\u001b[0;34m,\u001b[0m \u001b[0msigned\u001b[0m\u001b[0;34m=\u001b[0m\u001b[0;32mFalse\u001b[0m\u001b[0;34m,\u001b[0m \u001b[0mversion\u001b[0m\u001b[0;34m=\u001b[0m\u001b[0mPUBLIC_API_VERSION\u001b[0m\u001b[0;34m,\u001b[0m \u001b[0;34m**\u001b[0m\u001b[0mkwargs\u001b[0m\u001b[0;34m)\u001b[0m\u001b[0;34m:\u001b[0m\u001b[0;34m\u001b[0m\u001b[0;34m\u001b[0m\u001b[0m\n",
      "\u001b[0;32m~/anaconda3/lib/python3.7/site-packages/binance/client.py\u001b[0m in \u001b[0;36m_handle_response\u001b[0;34m(self)\u001b[0m\n\u001b[1;32m    228\u001b[0m         \"\"\"\n\u001b[1;32m    229\u001b[0m         \u001b[0;32mif\u001b[0m \u001b[0;32mnot\u001b[0m \u001b[0mstr\u001b[0m\u001b[0;34m(\u001b[0m\u001b[0mself\u001b[0m\u001b[0;34m.\u001b[0m\u001b[0mresponse\u001b[0m\u001b[0;34m.\u001b[0m\u001b[0mstatus_code\u001b[0m\u001b[0;34m)\u001b[0m\u001b[0;34m.\u001b[0m\u001b[0mstartswith\u001b[0m\u001b[0;34m(\u001b[0m\u001b[0;34m'2'\u001b[0m\u001b[0;34m)\u001b[0m\u001b[0;34m:\u001b[0m\u001b[0;34m\u001b[0m\u001b[0;34m\u001b[0m\u001b[0m\n\u001b[0;32m--> 230\u001b[0;31m             \u001b[0;32mraise\u001b[0m \u001b[0mBinanceAPIException\u001b[0m\u001b[0;34m(\u001b[0m\u001b[0mself\u001b[0m\u001b[0;34m.\u001b[0m\u001b[0mresponse\u001b[0m\u001b[0;34m)\u001b[0m\u001b[0;34m\u001b[0m\u001b[0;34m\u001b[0m\u001b[0m\n\u001b[0m\u001b[1;32m    231\u001b[0m         \u001b[0;32mtry\u001b[0m\u001b[0;34m:\u001b[0m\u001b[0;34m\u001b[0m\u001b[0;34m\u001b[0m\u001b[0m\n\u001b[1;32m    232\u001b[0m             \u001b[0;32mreturn\u001b[0m \u001b[0mself\u001b[0m\u001b[0;34m.\u001b[0m\u001b[0mresponse\u001b[0m\u001b[0;34m.\u001b[0m\u001b[0mjson\u001b[0m\u001b[0;34m(\u001b[0m\u001b[0;34m)\u001b[0m\u001b[0;34m\u001b[0m\u001b[0;34m\u001b[0m\u001b[0m\n",
      "\u001b[0;31mBinanceAPIException\u001b[0m: APIError(code=-2015): Invalid API-key, IP, or permissions for action."
     ]
    }
   ],
   "source": [
    "from binance.client import Client\n",
    "import datetime\n",
    "\n",
    "# YOUR API KEYS HERE\n",
    "#api_key = \"1xkfS28jR7eW8EZk77BCt3NtznzgIoJXjxTelowoDPD8MXvBUfBazJV0CSzF0Jwq\"\n",
    "#api_secret = \"iTqdOQHe32KQvhG33yC68bk5wTKRkb2zlszwM9x63sXyMjwxAYe6WerSj5SW4g5l\"\n",
    "\n",
    "api_key = \"ANUulMmh5ClMUu4lFgoahqBoqgIFCPGAlz2vIwHdjk80HQSMp9miHKwECPdiCAVJ\"    #Enter your own API-key here\n",
    "api_secret = \"mv8RXmGzA4dLC5wgXvb4Op14otLUNm3uEU9egCxRYX2h3S2Ns7mrnHifg7Hu8gQS\" #Enter your own API-secret here\n",
    "bclient = Client(api_key=api_key, api_secret=api_secret)\n",
    "\n",
    "start_date = datetime.datetime.strptime('23 May 2019', '%d %b %Y')\n",
    "today = datetime.datetime.today()\n",
    "\n",
    "def binanceBarExtractor(symbol):\n",
    "    print('working...')\n",
    "    filename = '{}_100MinuteBars.csv'.format(symbol)\n",
    "\n",
    "    klines = bclient.get_historical_klines(symbol, Client.KLINE_INTERVAL_15MINUTE, start_date.strftime(\"%d %b %Y %H:%M:%S\"), today.strftime(\"%d %b %Y %H:%M:%S\"), 1000)\n",
    "    data = pd.DataFrame(klines, columns = ['timestamp', 'open', 'high', 'low', 'close', 'volume', 'close_time', 'quote_av', 'trades', 'tb_base_av', 'tb_quote_av', 'ignore' ])\n",
    "    data['timestamp'] = pd.to_datetime(data['timestamp'], unit='ms')\n",
    "\n",
    "    data.set_index('timestamp', inplace=True)\n",
    "    data.to_csv(filename)\n",
    "    print('finished!')\n",
    "\n",
    "\n",
    "if __name__ == '__main__':\n",
    "    # Obviously replace BTCUSDT with whichever symbol you want from binance\n",
    "    # Wherever you've saved this code is the same directory you will find the resulting CSV file\n",
    "    #binanceBarExtractor('BTCUSDT')\n",
    "    balance = bclient.get_asset_balance(asset='REEF')\n",
    "    print(balance)\n"
   ]
  },
  {
   "cell_type": "code",
   "execution_count": 558,
   "metadata": {},
   "outputs": [
    {
     "data": {
      "text/html": [
       "<div>\n",
       "<style scoped>\n",
       "    .dataframe tbody tr th:only-of-type {\n",
       "        vertical-align: middle;\n",
       "    }\n",
       "\n",
       "    .dataframe tbody tr th {\n",
       "        vertical-align: top;\n",
       "    }\n",
       "\n",
       "    .dataframe thead th {\n",
       "        text-align: right;\n",
       "    }\n",
       "</style>\n",
       "<table border=\"1\" class=\"dataframe\">\n",
       "  <thead>\n",
       "    <tr style=\"text-align: right;\">\n",
       "      <th></th>\n",
       "      <th>timestamp</th>\n",
       "      <th>open</th>\n",
       "      <th>high</th>\n",
       "      <th>low</th>\n",
       "      <th>close</th>\n",
       "      <th>volume</th>\n",
       "      <th>close_time</th>\n",
       "      <th>quote_av</th>\n",
       "      <th>trades</th>\n",
       "      <th>tb_base_av</th>\n",
       "      <th>tb_quote_av</th>\n",
       "      <th>ignore</th>\n",
       "    </tr>\n",
       "  </thead>\n",
       "  <tbody>\n",
       "    <tr>\n",
       "      <th>0</th>\n",
       "      <td>2021-02-23 00:00:00</td>\n",
       "      <td>54087.67</td>\n",
       "      <td>54183.59</td>\n",
       "      <td>53018.54</td>\n",
       "      <td>53345.33</td>\n",
       "      <td>1831.952862</td>\n",
       "      <td>1614040199999</td>\n",
       "      <td>9.792048e+07</td>\n",
       "      <td>60528</td>\n",
       "      <td>907.604301</td>\n",
       "      <td>4.850729e+07</td>\n",
       "      <td>0</td>\n",
       "    </tr>\n",
       "    <tr>\n",
       "      <th>1</th>\n",
       "      <td>2021-02-23 00:30:00</td>\n",
       "      <td>53345.33</td>\n",
       "      <td>53892.42</td>\n",
       "      <td>53345.33</td>\n",
       "      <td>53440.66</td>\n",
       "      <td>1111.416103</td>\n",
       "      <td>1614041999999</td>\n",
       "      <td>5.961173e+07</td>\n",
       "      <td>46849</td>\n",
       "      <td>556.065013</td>\n",
       "      <td>2.982769e+07</td>\n",
       "      <td>0</td>\n",
       "    </tr>\n",
       "    <tr>\n",
       "      <th>2</th>\n",
       "      <td>2021-02-23 01:00:00</td>\n",
       "      <td>53431.44</td>\n",
       "      <td>53925.86</td>\n",
       "      <td>52632.58</td>\n",
       "      <td>52756.44</td>\n",
       "      <td>1436.512693</td>\n",
       "      <td>1614043799999</td>\n",
       "      <td>7.643267e+07</td>\n",
       "      <td>40358</td>\n",
       "      <td>684.077372</td>\n",
       "      <td>3.639869e+07</td>\n",
       "      <td>0</td>\n",
       "    </tr>\n",
       "    <tr>\n",
       "      <th>3</th>\n",
       "      <td>2021-02-23 01:30:00</td>\n",
       "      <td>52753.44</td>\n",
       "      <td>53094.67</td>\n",
       "      <td>52281.88</td>\n",
       "      <td>52546.18</td>\n",
       "      <td>1696.081723</td>\n",
       "      <td>1614045599999</td>\n",
       "      <td>8.939923e+07</td>\n",
       "      <td>43041</td>\n",
       "      <td>887.152925</td>\n",
       "      <td>4.676555e+07</td>\n",
       "      <td>0</td>\n",
       "    </tr>\n",
       "    <tr>\n",
       "      <th>4</th>\n",
       "      <td>2021-02-23 02:00:00</td>\n",
       "      <td>52546.59</td>\n",
       "      <td>52887.66</td>\n",
       "      <td>51919.53</td>\n",
       "      <td>51993.13</td>\n",
       "      <td>2468.505922</td>\n",
       "      <td>1614047399999</td>\n",
       "      <td>1.292997e+08</td>\n",
       "      <td>68279</td>\n",
       "      <td>1292.698071</td>\n",
       "      <td>6.771472e+07</td>\n",
       "      <td>0</td>\n",
       "    </tr>\n",
       "    <tr>\n",
       "      <th>...</th>\n",
       "      <td>...</td>\n",
       "      <td>...</td>\n",
       "      <td>...</td>\n",
       "      <td>...</td>\n",
       "      <td>...</td>\n",
       "      <td>...</td>\n",
       "      <td>...</td>\n",
       "      <td>...</td>\n",
       "      <td>...</td>\n",
       "      <td>...</td>\n",
       "      <td>...</td>\n",
       "      <td>...</td>\n",
       "    </tr>\n",
       "    <tr>\n",
       "      <th>1363</th>\n",
       "      <td>2021-03-23 11:00:00</td>\n",
       "      <td>54671.05</td>\n",
       "      <td>54804.98</td>\n",
       "      <td>54540.00</td>\n",
       "      <td>54688.95</td>\n",
       "      <td>731.492546</td>\n",
       "      <td>1616498999999</td>\n",
       "      <td>4.000558e+07</td>\n",
       "      <td>24553</td>\n",
       "      <td>383.708113</td>\n",
       "      <td>2.098597e+07</td>\n",
       "      <td>0</td>\n",
       "    </tr>\n",
       "    <tr>\n",
       "      <th>1364</th>\n",
       "      <td>2021-03-23 11:30:00</td>\n",
       "      <td>54688.95</td>\n",
       "      <td>54783.76</td>\n",
       "      <td>54060.79</td>\n",
       "      <td>54249.81</td>\n",
       "      <td>1465.468429</td>\n",
       "      <td>1616500799999</td>\n",
       "      <td>7.972295e+07</td>\n",
       "      <td>41084</td>\n",
       "      <td>723.387430</td>\n",
       "      <td>3.934464e+07</td>\n",
       "      <td>0</td>\n",
       "    </tr>\n",
       "    <tr>\n",
       "      <th>1365</th>\n",
       "      <td>2021-03-23 12:00:00</td>\n",
       "      <td>54249.80</td>\n",
       "      <td>55250.00</td>\n",
       "      <td>54234.96</td>\n",
       "      <td>55112.70</td>\n",
       "      <td>1936.556851</td>\n",
       "      <td>1616502599999</td>\n",
       "      <td>1.062491e+08</td>\n",
       "      <td>52551</td>\n",
       "      <td>1066.828563</td>\n",
       "      <td>5.851459e+07</td>\n",
       "      <td>0</td>\n",
       "    </tr>\n",
       "    <tr>\n",
       "      <th>1366</th>\n",
       "      <td>2021-03-23 12:30:00</td>\n",
       "      <td>55108.86</td>\n",
       "      <td>55287.52</td>\n",
       "      <td>54915.05</td>\n",
       "      <td>55110.00</td>\n",
       "      <td>999.450700</td>\n",
       "      <td>1616504399999</td>\n",
       "      <td>5.502668e+07</td>\n",
       "      <td>30343</td>\n",
       "      <td>510.115722</td>\n",
       "      <td>2.808689e+07</td>\n",
       "      <td>0</td>\n",
       "    </tr>\n",
       "    <tr>\n",
       "      <th>1367</th>\n",
       "      <td>2021-03-23 13:00:00</td>\n",
       "      <td>55110.00</td>\n",
       "      <td>55352.00</td>\n",
       "      <td>55061.17</td>\n",
       "      <td>55263.05</td>\n",
       "      <td>976.648776</td>\n",
       "      <td>1616506199999</td>\n",
       "      <td>5.391707e+07</td>\n",
       "      <td>27920</td>\n",
       "      <td>452.824877</td>\n",
       "      <td>2.500011e+07</td>\n",
       "      <td>0</td>\n",
       "    </tr>\n",
       "  </tbody>\n",
       "</table>\n",
       "<p>1368 rows × 12 columns</p>\n",
       "</div>"
      ],
      "text/plain": [
       "                timestamp      open      high       low     close  \\\n",
       "0     2021-02-23 00:00:00  54087.67  54183.59  53018.54  53345.33   \n",
       "1     2021-02-23 00:30:00  53345.33  53892.42  53345.33  53440.66   \n",
       "2     2021-02-23 01:00:00  53431.44  53925.86  52632.58  52756.44   \n",
       "3     2021-02-23 01:30:00  52753.44  53094.67  52281.88  52546.18   \n",
       "4     2021-02-23 02:00:00  52546.59  52887.66  51919.53  51993.13   \n",
       "...                   ...       ...       ...       ...       ...   \n",
       "1363  2021-03-23 11:00:00  54671.05  54804.98  54540.00  54688.95   \n",
       "1364  2021-03-23 11:30:00  54688.95  54783.76  54060.79  54249.81   \n",
       "1365  2021-03-23 12:00:00  54249.80  55250.00  54234.96  55112.70   \n",
       "1366  2021-03-23 12:30:00  55108.86  55287.52  54915.05  55110.00   \n",
       "1367  2021-03-23 13:00:00  55110.00  55352.00  55061.17  55263.05   \n",
       "\n",
       "           volume     close_time      quote_av  trades   tb_base_av  \\\n",
       "0     1831.952862  1614040199999  9.792048e+07   60528   907.604301   \n",
       "1     1111.416103  1614041999999  5.961173e+07   46849   556.065013   \n",
       "2     1436.512693  1614043799999  7.643267e+07   40358   684.077372   \n",
       "3     1696.081723  1614045599999  8.939923e+07   43041   887.152925   \n",
       "4     2468.505922  1614047399999  1.292997e+08   68279  1292.698071   \n",
       "...           ...            ...           ...     ...          ...   \n",
       "1363   731.492546  1616498999999  4.000558e+07   24553   383.708113   \n",
       "1364  1465.468429  1616500799999  7.972295e+07   41084   723.387430   \n",
       "1365  1936.556851  1616502599999  1.062491e+08   52551  1066.828563   \n",
       "1366   999.450700  1616504399999  5.502668e+07   30343   510.115722   \n",
       "1367   976.648776  1616506199999  5.391707e+07   27920   452.824877   \n",
       "\n",
       "       tb_quote_av  ignore  \n",
       "0     4.850729e+07       0  \n",
       "1     2.982769e+07       0  \n",
       "2     3.639869e+07       0  \n",
       "3     4.676555e+07       0  \n",
       "4     6.771472e+07       0  \n",
       "...            ...     ...  \n",
       "1363  2.098597e+07       0  \n",
       "1364  3.934464e+07       0  \n",
       "1365  5.851459e+07       0  \n",
       "1366  2.808689e+07       0  \n",
       "1367  2.500011e+07       0  \n",
       "\n",
       "[1368 rows x 12 columns]"
      ]
     },
     "execution_count": 558,
     "metadata": {},
     "output_type": "execute_result"
    }
   ],
   "source": [
    "df2 = pd.read_csv('BTCUSDT_30MinuteBars_by_Now.csv ')\n",
    "df2"
   ]
  },
  {
   "cell_type": "code",
   "execution_count": 559,
   "metadata": {},
   "outputs": [
    {
     "name": "stderr",
     "output_type": "stream",
     "text": [
      "C:\\Users\\Toan\\anaconda3\\lib\\site-packages\\pandas\\core\\frame.py:4305: SettingWithCopyWarning: \n",
      "A value is trying to be set on a copy of a slice from a DataFrame\n",
      "\n",
      "See the caveats in the documentation: https://pandas.pydata.org/pandas-docs/stable/user_guide/indexing.html#returning-a-view-versus-a-copy\n",
      "  return super().drop(\n",
      "C:\\Users\\Toan\\anaconda3\\lib\\site-packages\\pandas\\core\\frame.py:4438: SettingWithCopyWarning: \n",
      "A value is trying to be set on a copy of a slice from a DataFrame\n",
      "\n",
      "See the caveats in the documentation: https://pandas.pydata.org/pandas-docs/stable/user_guide/indexing.html#returning-a-view-versus-a-copy\n",
      "  return super().rename(\n"
     ]
    }
   ],
   "source": [
    "data = Create_Train(df2,8)"
   ]
  },
  {
   "cell_type": "code",
   "execution_count": 560,
   "metadata": {},
   "outputs": [
    {
     "data": {
      "text/html": [
       "<div>\n",
       "<style scoped>\n",
       "    .dataframe tbody tr th:only-of-type {\n",
       "        vertical-align: middle;\n",
       "    }\n",
       "\n",
       "    .dataframe tbody tr th {\n",
       "        vertical-align: top;\n",
       "    }\n",
       "\n",
       "    .dataframe thead th {\n",
       "        text-align: right;\n",
       "    }\n",
       "</style>\n",
       "<table border=\"1\" class=\"dataframe\">\n",
       "  <thead>\n",
       "    <tr style=\"text-align: right;\">\n",
       "      <th></th>\n",
       "      <th>high</th>\n",
       "      <th>low</th>\n",
       "      <th>close</th>\n",
       "      <th>high 1</th>\n",
       "      <th>low 1</th>\n",
       "      <th>close 1</th>\n",
       "      <th>high 2</th>\n",
       "      <th>low 2</th>\n",
       "      <th>close 2</th>\n",
       "      <th>high 3</th>\n",
       "      <th>...</th>\n",
       "      <th>high 5</th>\n",
       "      <th>low 5</th>\n",
       "      <th>close 5</th>\n",
       "      <th>high 6</th>\n",
       "      <th>low 6</th>\n",
       "      <th>close 6</th>\n",
       "      <th>high 7</th>\n",
       "      <th>low 7</th>\n",
       "      <th>close 7</th>\n",
       "      <th>Tag</th>\n",
       "    </tr>\n",
       "  </thead>\n",
       "  <tbody>\n",
       "    <tr>\n",
       "      <th>1358</th>\n",
       "      <td>54482.81</td>\n",
       "      <td>53916.34</td>\n",
       "      <td>54309.24</td>\n",
       "      <td>54485.06</td>\n",
       "      <td>54215.24</td>\n",
       "      <td>54313.62</td>\n",
       "      <td>54698.3</td>\n",
       "      <td>54230.5</td>\n",
       "      <td>54607.86</td>\n",
       "      <td>54723.0</td>\n",
       "      <td>...</td>\n",
       "      <td>54804.98</td>\n",
       "      <td>54540.0</td>\n",
       "      <td>54688.95</td>\n",
       "      <td>54783.76</td>\n",
       "      <td>54060.79</td>\n",
       "      <td>54249.81</td>\n",
       "      <td>55250.0</td>\n",
       "      <td>54234.96</td>\n",
       "      <td>55112.7</td>\n",
       "      <td>Up</td>\n",
       "    </tr>\n",
       "  </tbody>\n",
       "</table>\n",
       "<p>1 rows × 25 columns</p>\n",
       "</div>"
      ],
      "text/plain": [
       "          high       low     close    high 1     low 1   close 1   high 2  \\\n",
       "1358  54482.81  53916.34  54309.24  54485.06  54215.24  54313.62  54698.3   \n",
       "\n",
       "        low 2   close 2   high 3  ...    high 5    low 5   close 5    high 6  \\\n",
       "1358  54230.5  54607.86  54723.0  ...  54804.98  54540.0  54688.95  54783.76   \n",
       "\n",
       "         low 6   close 6   high 7     low 7  close 7  Tag  \n",
       "1358  54060.79  54249.81  55250.0  54234.96  55112.7   Up  \n",
       "\n",
       "[1 rows x 25 columns]"
      ]
     },
     "execution_count": 560,
     "metadata": {},
     "output_type": "execute_result"
    }
   ],
   "source": [
    "data.tail(1)"
   ]
  },
  {
   "cell_type": "code",
   "execution_count": 564,
   "metadata": {},
   "outputs": [
    {
     "data": {
      "text/plain": [
       "array(['Up'], dtype='<U4')"
      ]
     },
     "execution_count": 564,
     "metadata": {},
     "output_type": "execute_result"
    }
   ],
   "source": [
    "full_pipeline.predict(data.tail(1).drop('Tag',axis=1))"
   ]
  },
  {
   "cell_type": "code",
   "execution_count": null,
   "metadata": {},
   "outputs": [],
   "source": []
  }
 ],
 "metadata": {
  "kernelspec": {
   "name": "python3710jvsc74a57bd05bcfd9c39ade35c1defbb221fba81cb54114ea9f3809306999d90fff0a5773db",
   "display_name": "Python 3.7.10 64-bit ('base': conda)"
  },
  "language_info": {
   "codemirror_mode": {
    "name": "ipython",
    "version": 3
   },
   "file_extension": ".py",
   "mimetype": "text/x-python",
   "name": "python",
   "nbconvert_exporter": "python",
   "pygments_lexer": "ipython3",
   "version": "3.7.10-final"
  },
  "toc": {
   "base_numbering": 1,
   "nav_menu": {},
   "number_sections": true,
   "sideBar": true,
   "skip_h1_title": false,
   "title_cell": "Table of Contents",
   "title_sidebar": "Contents",
   "toc_cell": false,
   "toc_position": {},
   "toc_section_display": true,
   "toc_window_display": false
  }
 },
 "nbformat": 4,
 "nbformat_minor": 2
}